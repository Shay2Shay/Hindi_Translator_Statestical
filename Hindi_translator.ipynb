{
 "cells": [
  {
   "cell_type": "code",
   "execution_count": 1,
   "metadata": {
    "id": "KthEYeYa4YaV"
   },
   "outputs": [],
   "source": [
    "import pandas as pd"
   ]
  },
  {
   "cell_type": "markdown",
   "metadata": {
    "id": "JOGCEH8p4pIb"
   },
   "source": [
    "# reduced data = 100 lines"
   ]
  },
  {
   "cell_type": "code",
   "execution_count": 2,
   "metadata": {
    "colab": {
     "base_uri": "https://localhost:8080/",
     "height": 424
    },
    "id": "3snAHRIX4mWI",
    "outputId": "3dd5b6ea-e7f6-4427-c3ea-9ef70bea0d62"
   },
   "outputs": [
    {
     "data": {
      "text/html": [
       "<div>\n",
       "<style scoped>\n",
       "    .dataframe tbody tr th:only-of-type {\n",
       "        vertical-align: middle;\n",
       "    }\n",
       "\n",
       "    .dataframe tbody tr th {\n",
       "        vertical-align: top;\n",
       "    }\n",
       "\n",
       "    .dataframe thead th {\n",
       "        text-align: right;\n",
       "    }\n",
       "</style>\n",
       "<table border=\"1\" class=\"dataframe\">\n",
       "  <thead>\n",
       "    <tr style=\"text-align: right;\">\n",
       "      <th></th>\n",
       "      <th>hindi</th>\n",
       "      <th>english</th>\n",
       "    </tr>\n",
       "  </thead>\n",
       "  <tbody>\n",
       "    <tr>\n",
       "      <th>0</th>\n",
       "      <td>अपने अनुप्रयोग को पहुंचनीयता व्यायाम का लाभ दें</td>\n",
       "      <td>Give your application an accessibility workout</td>\n",
       "    </tr>\n",
       "    <tr>\n",
       "      <th>1</th>\n",
       "      <td>एक्सेर्साइसर पहुंचनीयता अन्वेषक</td>\n",
       "      <td>Accerciser Accessibility Explorer</td>\n",
       "    </tr>\n",
       "    <tr>\n",
       "      <th>2</th>\n",
       "      <td>निचले पटल के लिए डिफोल्ट प्लग-इन खाका</td>\n",
       "      <td>The default plugin layout for the bottom panel</td>\n",
       "    </tr>\n",
       "    <tr>\n",
       "      <th>3</th>\n",
       "      <td>ऊपरी पटल के लिए डिफोल्ट प्लग-इन खाका</td>\n",
       "      <td>The default plugin layout for the top panel</td>\n",
       "    </tr>\n",
       "    <tr>\n",
       "      <th>4</th>\n",
       "      <td>उन प्लग-इनों की सूची जिन्हें डिफोल्ट रूप से नि...</td>\n",
       "      <td>A list of plugins that are disabled by default</td>\n",
       "    </tr>\n",
       "    <tr>\n",
       "      <th>...</th>\n",
       "      <td>...</td>\n",
       "      <td>...</td>\n",
       "    </tr>\n",
       "    <tr>\n",
       "      <th>4994</th>\n",
       "      <td>कृपया एंटर a संदेश.</td>\n",
       "      <td>Please enter a log message.</td>\n",
       "    </tr>\n",
       "    <tr>\n",
       "      <th>4995</th>\n",
       "      <td>कृपया एंटर लेखक से. नाम</td>\n",
       "      <td>Please enter the commit author 's name</td>\n",
       "    </tr>\n",
       "    <tr>\n",
       "      <th>4996</th>\n",
       "      <td>कृपया एंटर लेखक से. e.</td>\n",
       "      <td>Please enter the commit author 's e - mail add...</td>\n",
       "    </tr>\n",
       "    <tr>\n",
       "      <th>4997</th>\n",
       "      <td>कमिट</td>\n",
       "      <td>Commit</td>\n",
       "    </tr>\n",
       "    <tr>\n",
       "      <th>4998</th>\n",
       "      <td>कृपया एंटर a.</td>\n",
       "      <td>Please enter a revision.</td>\n",
       "    </tr>\n",
       "  </tbody>\n",
       "</table>\n",
       "<p>4999 rows × 2 columns</p>\n",
       "</div>"
      ],
      "text/plain": [
       "                                                  hindi  \\\n",
       "0       अपने अनुप्रयोग को पहुंचनीयता व्यायाम का लाभ दें   \n",
       "1                       एक्सेर्साइसर पहुंचनीयता अन्वेषक   \n",
       "2                 निचले पटल के लिए डिफोल्ट प्लग-इन खाका   \n",
       "3                  ऊपरी पटल के लिए डिफोल्ट प्लग-इन खाका   \n",
       "4     उन प्लग-इनों की सूची जिन्हें डिफोल्ट रूप से नि...   \n",
       "...                                                 ...   \n",
       "4994                               कृपया एंटर a संदेश.    \n",
       "4995                            कृपया एंटर लेखक से. नाम   \n",
       "4996                            कृपया एंटर लेखक से. e.    \n",
       "4997                                               कमिट   \n",
       "4998                                     कृपया एंटर a.    \n",
       "\n",
       "                                                english  \n",
       "0        Give your application an accessibility workout  \n",
       "1                     Accerciser Accessibility Explorer  \n",
       "2        The default plugin layout for the bottom panel  \n",
       "3           The default plugin layout for the top panel  \n",
       "4        A list of plugins that are disabled by default  \n",
       "...                                                 ...  \n",
       "4994                        Please enter a log message.  \n",
       "4995             Please enter the commit author 's name  \n",
       "4996  Please enter the commit author 's e - mail add...  \n",
       "4997                                             Commit  \n",
       "4998                           Please enter a revision.  \n",
       "\n",
       "[4999 rows x 2 columns]"
      ]
     },
     "execution_count": 2,
     "metadata": {},
     "output_type": "execute_result"
    }
   ],
   "source": [
    "DATASET_SIZE = 50\n",
    "data = pd.read_csv('content/hindi_english_parallel.csv')\n",
    "data"
   ]
  },
  {
   "cell_type": "code",
   "execution_count": 3,
   "metadata": {
    "id": "XB_coN6w4xkh"
   },
   "outputs": [],
   "source": [
    "hindi = data['hindi'][:DATASET_SIZE]\n",
    "english = data['english'][:DATASET_SIZE]"
   ]
  },
  {
   "cell_type": "code",
   "execution_count": 4,
   "metadata": {
    "id": "5oO2xEeP4zhX"
   },
   "outputs": [],
   "source": [
    "valid_idx = list(range(len(hindi)))\n",
    "remove = []"
   ]
  },
  {
   "cell_type": "code",
   "execution_count": 5,
   "metadata": {
    "id": "ZzBLZz2w47AH"
   },
   "outputs": [],
   "source": [
    "for i in valid_idx:\n",
    "  if type(hindi[i]) == float or len(hindi[i]) < 1:\n",
    "    print(f\"Caugt {i}\")\n",
    "    remove.append(i)\n",
    "  if type(english[i]) == float or len(english[i]) < 1:\n",
    "    print(f\"Caugt {i}\")\n",
    "    remove.append(i)"
   ]
  },
  {
   "cell_type": "code",
   "execution_count": 6,
   "metadata": {
    "id": "7siScrXD480W"
   },
   "outputs": [],
   "source": [
    "valid_idx = list( set(valid_idx) - set(remove) )"
   ]
  },
  {
   "cell_type": "markdown",
   "metadata": {
    "id": "BXkW2WLr5FbB"
   },
   "source": [
    "# Tokenisation"
   ]
  },
  {
   "cell_type": "code",
   "execution_count": 7,
   "metadata": {
    "colab": {
     "base_uri": "https://localhost:8080/"
    },
    "id": "rgDKIyiw4-jw",
    "outputId": "f9c85ee2-f344-4987-abbe-52d4cd2192e0"
   },
   "outputs": [
    {
     "name": "stderr",
     "output_type": "stream",
     "text": [
      "C:\\Users\\AMAN GUPTA\\AppData\\Local\\Temp\\ipykernel_12724\\987820437.py:1: TqdmExperimentalWarning: Using `tqdm.autonotebook.tqdm` in notebook mode. Use `tqdm.tqdm` instead to force console mode (e.g. in jupyter console)\n",
      "  from tqdm.autonotebook import tqdm\n"
     ]
    }
   ],
   "source": [
    "from tqdm.autonotebook import tqdm"
   ]
  },
  {
   "cell_type": "code",
   "execution_count": 8,
   "metadata": {
    "colab": {
     "base_uri": "https://localhost:8080/",
     "height": 49,
     "referenced_widgets": [
      "4264494e80e04785a87c1f4c24a86696",
      "bfeb9eefc89847ffac445f5ef24deb24",
      "d03b6708c4494927b2ca09948657fbf3",
      "f672ed3eb9f94315a113a032373cfb5d",
      "ee67e9e77b7649b9b44f214bfde9cb5f",
      "30d90c79209c48ed8c44545ff8c40c3c",
      "a3512f6c306e4ff585ba68ef17c93171",
      "82d7c973750446d392d7ce3adb7599e0",
      "cd896cd1c7084b3aa57fd4b3293bb871",
      "8b7b6e8b7765494eb158d290736a8a75",
      "8829d1431ee14560b7a5652617992c20"
     ]
    },
    "id": "V8jI8f_Z5Gyd",
    "outputId": "515dc914-7b43-4089-8b53-be5a45bd21e6"
   },
   "outputs": [
    {
     "data": {
      "application/vnd.jupyter.widget-view+json": {
       "model_id": "91704439b8ae48539f232a0436343a55",
       "version_major": 2,
       "version_minor": 0
      },
      "text/plain": [
       "  0%|          | 0/50 [00:00<?, ?it/s]"
      ]
     },
     "metadata": {},
     "output_type": "display_data"
    }
   ],
   "source": [
    "sentence_hindi_tokens = []\n",
    "hindi_tokens = set()\n",
    "\n",
    "for sentence in tqdm(hindi):\n",
    "  if len(sentence) >= 1:\n",
    "    sentence_hindi_tokens.append(sentence.split(' '))\n",
    "    for token in sentence_hindi_tokens[-1]:\n",
    "      hindi_tokens.add(token)"
   ]
  },
  {
   "cell_type": "code",
   "execution_count": 9,
   "metadata": {
    "colab": {
     "base_uri": "https://localhost:8080/",
     "height": 49,
     "referenced_widgets": [
      "6ab1e89b4c0448a78fc8f7bba97763dd",
      "d4f65e21aa5b4b9c876ac362dfa7d8c6",
      "c31514e5064749d3860c1c185dd4b23e",
      "b5840fe6c7564719a788eb772b26700d",
      "0eb04bdad5414455b7147567c0262123",
      "fb8161f40af0471a839502e409b7bba3",
      "df77d5b51b2d4d9097176022c4424e63",
      "2f6be2fdfb204854859b854780354d4f",
      "b5fa78f1b3e8421e87f52e9092511444",
      "ebe8e05da2e74f6db995561ac92198df",
      "726630e22d764ddaba7cb14d21d76d06"
     ]
    },
    "id": "6hBz_KCM5nHV",
    "outputId": "9b66214c-d483-4913-dce6-6e7156d6f8ab"
   },
   "outputs": [
    {
     "data": {
      "application/vnd.jupyter.widget-view+json": {
       "model_id": "d789f4bd4a224f8b92f40b783253dc89",
       "version_major": 2,
       "version_minor": 0
      },
      "text/plain": [
       "  0%|          | 0/50 [00:00<?, ?it/s]"
      ]
     },
     "metadata": {},
     "output_type": "display_data"
    }
   ],
   "source": [
    "sentence_english_tokens = []\n",
    "english_tokens = set()\n",
    "\n",
    "for sentence in tqdm(english):\n",
    "  if len(sentence) >= 1:\n",
    "    sentence_english_tokens.append(sentence.split(' '))\n",
    "    for token in sentence_english_tokens[-1]:\n",
    "      english_tokens.add(token)"
   ]
  },
  {
   "cell_type": "code",
   "execution_count": 10,
   "metadata": {
    "colab": {
     "base_uri": "https://localhost:8080/"
    },
    "id": "TUwjCZO2516o",
    "outputId": "fe974cb6-39b6-4328-d0fc-b9934e4b7161"
   },
   "outputs": [
    {
     "name": "stdout",
     "output_type": "stream",
     "text": [
      "English Tokens = 117\n",
      "Hindi Tokens = 125\n"
     ]
    }
   ],
   "source": [
    "# english_tokens -= set([''])\n",
    "# hindi_tokens -= set([''])\n",
    "\n",
    "print(f\"English Tokens = {len(english_tokens)}\")\n",
    "print(f'Hindi Tokens = {len(hindi_tokens)}')"
   ]
  },
  {
   "cell_type": "code",
   "execution_count": 11,
   "metadata": {
    "colab": {
     "base_uri": "https://localhost:8080/",
     "height": 49,
     "referenced_widgets": [
      "c4ea8f28dee2458fa408a491bd7175fc",
      "5683ddeeb69b4d279ff3aff6ff6c216b",
      "1800fdb484c6455dad203f99f9190901",
      "d09440bc37ac48a6b7fbe40b80217015",
      "cfda11eeba004a9580b46689120e00cd",
      "f4818da10cf545d5bce5e366ff2e4356",
      "739c62a16ec8417d9214fc968f0d9131",
      "95a5ccffce764695a0908e9bb0f31f46",
      "9beeea5332734c5b9e7017f8a6832487",
      "ba826aaeec9a4ee09d8bf704dc504c4f",
      "88588f9958d641c5a8789449b54c19f7"
     ]
    },
    "id": "RIJsHjWj56W7",
    "outputId": "faeac969-7f6c-4f57-f185-c21fbbac2c19"
   },
   "outputs": [
    {
     "data": {
      "application/vnd.jupyter.widget-view+json": {
       "model_id": "b68025cbf2d243ed9c16470f3f114fb9",
       "version_major": 2,
       "version_minor": 0
      },
      "text/plain": [
       "0it [00:00, ?it/s]"
      ]
     },
     "metadata": {},
     "output_type": "display_data"
    }
   ],
   "source": [
    "hindi_t2v = {}\n",
    "hindi_v2t = {}\n",
    "for i, tkn in tqdm(enumerate(hindi_tokens)):\n",
    "  hindi_t2v[tkn] = i\n",
    "  hindi_v2t[i] = tkn"
   ]
  },
  {
   "cell_type": "code",
   "execution_count": 12,
   "metadata": {
    "colab": {
     "base_uri": "https://localhost:8080/",
     "height": 49,
     "referenced_widgets": [
      "0cf1f5e0e9754a5a9afa6678d85cc7c4",
      "2a65047f6f1546f5bf43adcced27d86e",
      "87b4c4bd3b5641d7a3b3f9b5f9da960e",
      "88d768f7ce5949e29632a148263f634f",
      "ec3825fe97e74f0d9113e02209798cbe",
      "1565f2c65547490abca50f56f14e6edc",
      "fc15e5d819e94f56a8443dff53e99052",
      "bd0231baa4ae43a0a97432e3332adfb0",
      "c7a07bb39d6b4e169c256af9d5872a4c",
      "bb21e6efb63540d9936961b6d0f93d90",
      "84371c6020114b4b8e82defc938a618e"
     ]
    },
    "id": "mwU8DKw75_pI",
    "outputId": "19c8000c-3dd6-4b96-cc4b-802b660a7e0b"
   },
   "outputs": [
    {
     "data": {
      "application/vnd.jupyter.widget-view+json": {
       "model_id": "bbb3ba427d244b3c9cd51724a5e0e768",
       "version_major": 2,
       "version_minor": 0
      },
      "text/plain": [
       "0it [00:00, ?it/s]"
      ]
     },
     "metadata": {},
     "output_type": "display_data"
    }
   ],
   "source": [
    "english_t2v = {}\n",
    "english_v2t = {}\n",
    "for i, tkn in tqdm(enumerate(english_tokens)):\n",
    "  english_t2v[tkn] = i\n",
    "  english_v2t[i] = tkn"
   ]
  },
  {
   "cell_type": "markdown",
   "metadata": {
    "id": "Vas798r46Gna"
   },
   "source": [
    "# Better Sentences for processing - Less ambiguous"
   ]
  },
  {
   "cell_type": "code",
   "execution_count": 13,
   "metadata": {
    "id": "NCqkCu-K6B6M"
   },
   "outputs": [],
   "source": [
    "import numpy as np"
   ]
  },
  {
   "cell_type": "code",
   "execution_count": 14,
   "metadata": {
    "id": "Ufozf46p7FOm"
   },
   "outputs": [],
   "source": [
    "CONFIRM_MAP = {}\n",
    "CONFIRM_IDX = []\n",
    "confirm_set = set()"
   ]
  },
  {
   "cell_type": "code",
   "execution_count": 15,
   "metadata": {
    "colab": {
     "base_uri": "https://localhost:8080/"
    },
    "id": "JllFPMv66VM-",
    "outputId": "f16e63c6-39fd-4e81-c20a-44d287804185"
   },
   "outputs": [
    {
     "data": {
      "text/plain": [
       "{'Method': 'विधि',\n",
       " 'Property': 'गुणधर्म',\n",
       " 'Value': 'मान',\n",
       " 'Everything': 'सभी',\n",
       " 'Source': 'स्रोत',\n",
       " 'Description': 'वर्णन',\n",
       " 'Show': 'दिखाएं',\n",
       " 'ID': 'आईडी',\n",
       " 'Toolkit': 'औजार',\n",
       " 'Version': 'संस्करण',\n",
       " 'Size': 'आकार',\n",
       " 'WIDGET': 'विडजेट',\n",
       " 'Layer': 'स्तर',\n",
       " 'Alpha': 'अल्फा'}"
      ]
     },
     "execution_count": 15,
     "metadata": {},
     "output_type": "execute_result"
    }
   ],
   "source": [
    "for i, tkn in enumerate(sentence_english_tokens):\n",
    "  # print(f'IDX : {i} = {len(tkn)}')\n",
    "  if len(tkn) == 1:\n",
    "    CONFIRM_MAP[tkn[0]] = sentence_hindi_tokens[i][0]\n",
    "    CONFIRM_IDX.append(i)\n",
    "    confirm_set.add(tkn[0])\n",
    "    confirm_set.add(sentence_hindi_tokens[i][0])\n",
    "    # print( f'{tkn} -->> {sentence_hindi_tokens[i]}' )\n",
    "\n",
    "CONFIRM_MAP"
   ]
  },
  {
   "cell_type": "markdown",
   "metadata": {
    "id": "ok_8yCyv72PE"
   },
   "source": [
    "# Generating More Confirm maps"
   ]
  },
  {
   "cell_type": "code",
   "execution_count": 16,
   "metadata": {
    "id": "Cn1QdJqx8e7d"
   },
   "outputs": [],
   "source": [
    "from datetime import datetime, timedelta\n",
    "\n",
    "TRAINING_TIME = 1 # minutes"
   ]
  },
  {
   "cell_type": "code",
   "execution_count": 17,
   "metadata": {
    "id": "YioQ0yIr6cVy"
   },
   "outputs": [],
   "source": [
    "start = datetime.now()\n",
    "\n",
    "size = len(sentence_english_tokens)\n",
    "epch = 1\n",
    "while datetime.now() <= start + timedelta(minutes=TRAINING_TIME):\n",
    "  idx1 = np.random.randint(low=0, high=size)\n",
    "  idx2 = np.random.randint(low=0, high=size)\n",
    "\n",
    "  diffset = set(sentence_english_tokens[idx1]) - set(sentence_english_tokens[idx2])\n",
    "  if len(diffset) == 1:\n",
    "    diff = set(sentence_hindi_tokens[idx1]) - set(sentence_hindi_tokens[idx2])\n",
    "    if len(list(diff)) == 1:\n",
    "      # print(1,list(diffset), list(cmn))\n",
    "      CONFIRM_MAP[list(diffset)[0]] = list(diff)[0]\n",
    "  elif len(diffset - confirm_set) == 1:\n",
    "    diffset -= confirm_set\n",
    "    diff = set(sentence_hindi_tokens[idx1]) - set(sentence_hindi_tokens[idx2])\n",
    "    if len(list(diff)) == 1:\n",
    "      # print(2, list(diffset), list(cmn))\n",
    "      CONFIRM_MAP[list(diffset)[0]] = list(diff)[0]\n",
    "\n",
    "  intersection = set(sentence_english_tokens[idx1]).intersection(set(sentence_english_tokens[idx2]))\n",
    "  if len(list(intersection)) == 1:\n",
    "    cmn = set(sentence_hindi_tokens[idx1]).intersection(set(sentence_hindi_tokens[idx2]))\n",
    "    if len(list(cmn)) == 1:\n",
    "      # print(3, list(intersection), list(cmn))\n",
    "      CONFIRM_MAP[list(intersection)[0]] = list(cmn)[0]"
   ]
  },
  {
   "cell_type": "code",
   "execution_count": 18,
   "metadata": {
    "colab": {
     "base_uri": "https://localhost:8080/"
    },
    "id": "EvOoN4sB89xF",
    "outputId": "c511a3d1-2fad-4c3b-feca-827a54f2a92d"
   },
   "outputs": [
    {
     "data": {
      "text/plain": [
       "{'Method': 'विधि',\n",
       " 'Property': 'गुणधर्म',\n",
       " 'Value': 'मान',\n",
       " 'Everything': 'सभी',\n",
       " 'Source': 'स्रोत',\n",
       " 'Description': 'वर्णन',\n",
       " 'Show': 'दिखाएं',\n",
       " 'ID': 'आईडी',\n",
       " 'Toolkit': 'औजार',\n",
       " 'Version': 'संस्करण',\n",
       " 'Size': 'आकार',\n",
       " 'WIDGET': 'विडजेट',\n",
       " 'Layer': 'स्तर',\n",
       " 'Alpha': 'अल्फा',\n",
       " 'accessible': 'समय',\n",
       " '_': '',\n",
       " 'of': 'की',\n",
       " 'default': 'डिफोल्ट',\n",
       " 'event': 'घटना',\n",
       " 'application': 'अनुप्रयोग',\n",
       " 'Accessible': 'पहुंचनीय',\n",
       " 'fill': 'भराई',\n",
       " 'and': 'और',\n",
       " 'bottom': 'निचले',\n",
       " 'Monitor': 'मानिटर',\n",
       " 'top': 'ऊपरी',\n",
       " 'Highlight': 'रकें',\n",
       " 'Absolute': 'निरपेक्ष',\n",
       " 'position': 'स्थिति',\n",
       " 'Relative': 'सापेक्ष',\n",
       " 'Event': 'घटना'}"
      ]
     },
     "execution_count": 18,
     "metadata": {},
     "output_type": "execute_result"
    }
   ],
   "source": [
    "CONFIRM_MAP"
   ]
  },
  {
   "cell_type": "markdown",
   "metadata": {
    "id": "bG8p1VCPEmtE"
   },
   "source": [
    "# Probablity Matrix"
   ]
  },
  {
   "cell_type": "code",
   "execution_count": 19,
   "metadata": {
    "id": "HXdQpC-EDL2V"
   },
   "outputs": [],
   "source": [
    "app_mat = np.ones((len(english_tokens), len(hindi_tokens)))"
   ]
  },
  {
   "cell_type": "code",
   "execution_count": 20,
   "metadata": {
    "colab": {
     "base_uri": "https://localhost:8080/",
     "height": 49,
     "referenced_widgets": [
      "8f5daaef11734582a95ed8822b435ee6",
      "1b7818568b7045298750bc920c1cdbfb",
      "542fd8711e034aa98df4515ced2a1bef",
      "062f6d9003d04f8b91fe32f9a78b901f",
      "7af5081ae6db4f5bb4dc430a7e2da624",
      "8e1d9423f8374828836dfcd0b7389b51",
      "cd256346985f4f59a3419ab7c209d05e",
      "85b0d7f576fd4ede930a239c7f6f474f",
      "6bff295ca9f04d479bce75f63828bdf8",
      "990c1a2b98454af8b38ab64a8dcb1d21",
      "f326f4315f4d48789f18f2d13678f8d1"
     ]
    },
    "id": "eYmWa-zwEwpH",
    "outputId": "8b35db66-8a79-450f-d7ae-d235532bfcb0"
   },
   "outputs": [
    {
     "data": {
      "application/vnd.jupyter.widget-view+json": {
       "model_id": "541c19967c7d444cba2611f45bb7af75",
       "version_major": 2,
       "version_minor": 0
      },
      "text/plain": [
       "  0%|          | 0/117 [00:00<?, ?it/s]"
      ]
     },
     "metadata": {},
     "output_type": "display_data"
    }
   ],
   "source": [
    "for eng_i in tqdm(range(len(app_mat))):\n",
    "  for hnd_j in range(len(app_mat[0])):\n",
    "    # we are iterating over appearence matrix\n",
    "    '''\n",
    "    Now for each block we will look for frequency in dataset of hindi-english token pair\n",
    "    '''\n",
    "    # for eng_sentence in english:\n",
    "    #   eng_count = eng_sentence.count(english_v2t[eng_i])\n",
    "    #   for line_no, hindi_sentense in zip(valid_idx, hindi):\n",
    "    #     hnd_count = hindi[line_no].count(hindi_v2t[hnd_j])\n",
    "\n",
    "    for eng_sentence, hindi_sentense in zip(english, hindi):\n",
    "      eng_count = eng_sentence.count(english_v2t[eng_i])\n",
    "      hnd_count = hindi_sentense.count(hindi_v2t[hnd_j])\n",
    "\n",
    "      app_mat[eng_i][hnd_j] += min(eng_count, hnd_count)"
   ]
  },
  {
   "cell_type": "code",
   "execution_count": 21,
   "metadata": {
    "colab": {
     "base_uri": "https://localhost:8080/"
    },
    "id": "WVqFl3c7Iuma",
    "outputId": "0074e4f5-c208-47a2-e716-0d1697848e45"
   },
   "outputs": [
    {
     "data": {
      "text/plain": [
       "array([[2., 2., 1., ..., 1., 1., 1.],\n",
       "       [2., 1., 1., ..., 1., 1., 1.],\n",
       "       [2., 2., 1., ..., 1., 1., 1.],\n",
       "       ...,\n",
       "       [2., 1., 1., ..., 1., 1., 1.],\n",
       "       [2., 1., 1., ..., 2., 1., 1.],\n",
       "       [2., 1., 1., ..., 1., 1., 1.]])"
      ]
     },
     "execution_count": 21,
     "metadata": {},
     "output_type": "execute_result"
    }
   ],
   "source": [
    "app_mat"
   ]
  },
  {
   "cell_type": "code",
   "execution_count": 22,
   "metadata": {
    "colab": {
     "base_uri": "https://localhost:8080/"
    },
    "id": "jTiL6ZcHINg1",
    "outputId": "72abddae-ff85-4e29-845d-242f2885a761"
   },
   "outputs": [
    {
     "data": {
      "text/plain": [
       "(array([2., 2., 2., ..., 2., 2., 2.]), 1421, 14625)"
      ]
     },
     "execution_count": 22,
     "metadata": {},
     "output_type": "execute_result"
    }
   ],
   "source": [
    "app_mat[app_mat != 1] , len(app_mat[app_mat != 1]), len(app_mat.flatten())"
   ]
  },
  {
   "cell_type": "code",
   "execution_count": 23,
   "metadata": {
    "id": "dH4RRuinFF8e"
   },
   "outputs": [],
   "source": [
    "def get_max_k(eng_word_idx, dictionary, k=1):\n",
    "  print(english_v2t[eng_word_idx], end='\\t\\t')\n",
    "  lst = [x for x in dictionary[eng_word_idx]]\n",
    "  # print(lst)\n",
    "  lst = np.array(lst)\n",
    "\n",
    "  lst = lst.argsort()[-k:][::-1]\n",
    "  print([hindi_v2t[x] for x in lst])"
   ]
  },
  {
   "cell_type": "code",
   "execution_count": 24,
   "metadata": {
    "colab": {
     "base_uri": "https://localhost:8080/"
    },
    "id": "9DDwpLG5FRrV",
    "outputId": "769fcef3-d0b6-48b9-9220-9621018da44d"
   },
   "outputs": [
    {
     "data": {
      "text/plain": [
       "(117, 125)"
      ]
     },
     "execution_count": 24,
     "metadata": {},
     "output_type": "execute_result"
    }
   ],
   "source": [
    "app_mat.shape"
   ]
  },
  {
   "cell_type": "markdown",
   "metadata": {
    "id": "Sjf_ya9YFlAP"
   },
   "source": [
    "# Forcefully assign confident map data to the probablity matrix"
   ]
  },
  {
   "cell_type": "code",
   "execution_count": 25,
   "metadata": {
    "id": "8X1g9FHeFxvv"
   },
   "outputs": [],
   "source": [
    "app_mat += 5"
   ]
  },
  {
   "cell_type": "code",
   "execution_count": 26,
   "metadata": {
    "id": "DhKJLHofFw6U"
   },
   "outputs": [],
   "source": [
    "for key, value in CONFIRM_MAP.items():\n",
    "  try :\n",
    "    for i in range(app_mat.shape[1]):\n",
    "      app_mat[english_t2v[key]][i] = 0\n",
    "    for i in range(app_mat.shape[0]):\n",
    "      app_mat[i][hindi_t2v[value]] = 0\n",
    "\n",
    "    app_mat[english_t2v[key]][hindi_t2v[value]] = 1\n",
    "  except Exception as e:\n",
    "    print(e)"
   ]
  },
  {
   "cell_type": "code",
   "execution_count": 27,
   "metadata": {
    "colab": {
     "base_uri": "https://localhost:8080/"
    },
    "id": "13rqFwAyFd85",
    "outputId": "eeec50be-982a-473f-b933-b562e38b2d33"
   },
   "outputs": [
    {
     "name": "stdout",
     "output_type": "stream",
     "text": [
      "Start\t\t['करो/रोको']\n",
      "action\t\t['का']\n",
      "Clear\t\t['रोजनामचा']\n",
      "description)\t\t['को']\n",
      "Selection\t\t['_)']\n",
      "they\t\t['उन्हें']\n",
      "lection\t\t['_)']\n",
      "Everything\t\t['सभी']\n",
      "Z\t\t['एमडीआई-जेड-क्रम']\n",
      "Console\t\t['आईपाइथन']\n",
      "ID\t\t['आईडी']\n",
      "recording\t\t['करो/रोको']\n",
      "entry\t\t['हाइलाइट']\n",
      "box\t\t['आसंधि']\n",
      "duration\t\t['को']\n",
      "currently\t\t['लिए']\n",
      "event\t\t['लिए']\n",
      "Accessibility\t\t['से']\n",
      "Selected\t\t['चुने']\n",
      "Layer\t\t['स्तर']\n",
      "Perform\t\t['का']\n",
      "WIDGET\t\t['विडजेट']\n",
      "/\t\t['करो/रोको']\n",
      "Browse\t\t['जिसे']\n",
      "plugin\t\t['प्लग-इन']\n",
      "Monitor\t\t['मानिटर']\n",
      "application\t\t['अनुप्रयोग']\n",
      "default\t\t['डिफोल्ट']\n",
      "Relative\t\t['सापेक्ष']\n",
      "plugins\t\t['निष्क्रिय']\n",
      "current\t\t['से']\n",
      "Highlight\t\t['रकें']\n",
      "methods\t\t['जिसे']\n",
      "stop\t\t['करो/रोको']\n",
      "from\t\t['उन्हें']\n",
      "sources\t\t['उन्हें']\n",
      "when\t\t['आसंधि']\n",
      "nodes\t\t['आसंधि']\n",
      "Event\t\t['घटना']\n",
      "bottom\t\t['निचले']\n",
      "and\t\t['और']\n",
      "private\t\t['को']\n",
      "attributes\t\t['को']\n",
      "monitor\t\t['लिए']\n",
      "_\t\t['']\n",
      "highlight\t\t['हाइलाइट']\n",
      "lear\t\t['को']\n",
      "border\t\t['रंग']\n",
      "of\t\t['की']\n",
      "Absolute\t\t['निरपेक्ष']\n",
      "last\t\t['हाइलाइट']\n",
      "console\t\t['लिए']\n",
      "Alpha\t\t['अल्फा']\n",
      "log\t\t['रोजनामचा']\n",
      "panel\t\t['लिए']\n",
      "opacity\t\t['रंग']\n",
      "an\t\t['का']\n",
      "color\t\t['हाइलाइट']\n",
      "various\t\t['जिसे']\n",
      "order\t\t['रंग']\n",
      "The\t\t['का']\n",
      "Hide\t\t['को']\n",
      "Give\t\t['लाभ']\n",
      "Events\t\t['(_']\n",
      "(no\t\t['को']\n",
      "Property\t\t['गुणधर्म']\n",
      "selected\t\t['से']\n",
      "disabled\t\t['निष्क्रिय']\n",
      "top\t\t['ऊपरी']\n",
      "as\t\t['उन्हें']\n",
      "accessibility\t\t['लाभ']\n",
      "0,\t\t['0,']\n",
      "Accessible\t\t['पहुंचनीय']\n",
      "Col\t\t['संग्रह']\n",
      "0\t\t['0']\n",
      "API\t\t['विचरक']\n",
      "Show\t\t['दिखाएं']\n",
      "Shows\t\t['उन्हें']\n",
      "fill\t\t['भराई']\n",
      "plication\t\t['को']\n",
      "by\t\t['निष्क्रिय']\n",
      "border.\t\t['रंग']\n",
      "Accerciser\t\t['से']\n",
      "Toolkit\t\t['औजार']\n",
      "events\t\t['उन्हें']\n",
      "that\t\t['निष्क्रिय']\n",
      "layout\t\t['लिए']\n",
      "-\t\t['एमडीआई-जेड-क्रम']\n",
      "position\t\t['स्थिति']\n",
      "types\t\t['उन्हें']\n",
      "on\t\t['को']\n",
      "accessible\t\t['समय']\n",
      "Description\t\t['वर्णन']\n",
      "Acti\t\t['का']\n",
      "Value\t\t['मान']\n",
      "MDI\t\t['एमडीआई-जेड-क्रम']\n",
      "the\t\t['का']\n",
      "Source\t\t['स्रोत']\n",
      "workout\t\t['लाभ']\n",
      "C\t\t['_)']\n",
      "Browser\t\t['विचरक']\n",
      "for\t\t['का']\n",
      "Interactive\t\t['लिए']\n",
      "A\t\t['से']\n",
      "Version\t\t['संस्करण']\n",
      "IPython\t\t['आईपाइथन']\n",
      "occur\t\t['उन्हें']\n",
      "Ap\t\t['लिए']\n",
      "list\t\t['निष्क्रिय']\n",
      "fill.\t\t['गया']\n",
      "manipulating\t\t['लिए']\n",
      "Method\t\t['विधि']\n",
      "Explorer\t\t['से']\n",
      "Size\t\t['आकार']\n",
      "your\t\t['लाभ']\n",
      "are\t\t['निष्क्रिय']\n",
      "selecting\t\t['आसंधि']\n"
     ]
    }
   ],
   "source": [
    "for i in range(117):\n",
    "  get_max_k(i, app_mat, k=1)"
   ]
  },
  {
   "cell_type": "markdown",
   "metadata": {
    "id": "MN99NhyCG481"
   },
   "source": [
    "# Probablity Wise Assignment"
   ]
  },
  {
   "cell_type": "code",
   "execution_count": 28,
   "metadata": {
    "id": "OVXFKTplGz1L"
   },
   "outputs": [],
   "source": [
    "def assign(app_mat):\n",
    "  arg = app_mat.argmax()\n",
    "  x = arg//app_mat.shape[1]\n",
    "  y = arg%app_mat.shape[1]\n",
    "\n",
    "  for i in range(app_mat.shape[1]):\n",
    "    app_mat[x][i] = 0\n",
    "  for i in range(app_mat.shape[0]):\n",
    "    app_mat[i][y] = 0\n",
    "\n",
    "  app_mat[x][y] = 1"
   ]
  },
  {
   "cell_type": "code",
   "execution_count": 29,
   "metadata": {
    "colab": {
     "base_uri": "https://localhost:8080/"
    },
    "id": "qwv1MIL1Hah5",
    "outputId": "1bbcad96-e12a-46c0-a47f-420133b83c1c"
   },
   "outputs": [
    {
     "name": "stdout",
     "output_type": "stream",
     "text": [
      "1\n",
      "2\n",
      "3\n",
      "4\n",
      "5\n",
      "6\n",
      "7\n",
      "8\n",
      "9\n",
      "10\n",
      "11\n",
      "12\n",
      "13\n",
      "14\n",
      "15\n",
      "16\n",
      "17\n",
      "18\n",
      "19\n",
      "20\n",
      "21\n",
      "22\n",
      "23\n",
      "24\n",
      "25\n",
      "26\n",
      "27\n",
      "28\n",
      "29\n",
      "30\n",
      "31\n",
      "32\n",
      "33\n",
      "34\n",
      "35\n",
      "36\n",
      "37\n",
      "38\n",
      "39\n",
      "40\n",
      "41\n",
      "42\n",
      "43\n",
      "44\n",
      "45\n",
      "46\n",
      "47\n",
      "48\n",
      "49\n",
      "50\n",
      "51\n",
      "52\n",
      "53\n",
      "54\n",
      "55\n",
      "56\n",
      "57\n",
      "58\n",
      "59\n",
      "60\n",
      "61\n",
      "62\n",
      "63\n",
      "64\n",
      "65\n",
      "66\n",
      "67\n",
      "68\n",
      "69\n",
      "70\n",
      "71\n",
      "72\n",
      "73\n",
      "74\n",
      "75\n",
      "76\n",
      "77\n",
      "78\n",
      "79\n",
      "80\n",
      "81\n",
      "82\n",
      "83\n",
      "84\n",
      "85\n"
     ]
    }
   ],
   "source": [
    "i = 0\n",
    "while True:\n",
    "  assign(app_mat)\n",
    "  ans = np.max(app_mat) == 1\n",
    "  if ans == True:\n",
    "    break\n",
    "  i += 1\n",
    "  print(i)"
   ]
  },
  {
   "cell_type": "code",
   "execution_count": 30,
   "metadata": {
    "colab": {
     "base_uri": "https://localhost:8080/"
    },
    "id": "kJ_LHUguHc-0",
    "outputId": "d6946e1e-bec1-4726-c80a-a5d04e7cd5dc"
   },
   "outputs": [
    {
     "data": {
      "text/plain": [
       "array([[0., 0., 0., ..., 0., 0., 0.],\n",
       "       [0., 0., 0., ..., 0., 0., 0.],\n",
       "       [0., 0., 0., ..., 0., 0., 0.],\n",
       "       ...,\n",
       "       [0., 0., 0., ..., 0., 0., 0.],\n",
       "       [0., 0., 0., ..., 0., 0., 0.],\n",
       "       [0., 0., 0., ..., 0., 0., 0.]])"
      ]
     },
     "execution_count": 30,
     "metadata": {},
     "output_type": "execute_result"
    }
   ],
   "source": [
    "app_mat"
   ]
  },
  {
   "cell_type": "code",
   "execution_count": 31,
   "metadata": {
    "colab": {
     "base_uri": "https://localhost:8080/"
    },
    "id": "UN_gin_JHiRJ",
    "outputId": "f64c2cc3-9716-4435-b704-86b5d45d5e2e"
   },
   "outputs": [
    {
     "name": "stdout",
     "output_type": "stream",
     "text": [
      "Start\t\t['करो/रोको']\n",
      "action\t\t['करें']\n",
      "Clear\t\t['रोजनामचा']\n",
      "description)\t\t['नहीं']\n",
      "Selection\t\t['(C']\n",
      "they\t\t['घटित']\n",
      "lection\t\t['_)']\n",
      "Everything\t\t['सभी']\n",
      "Z\t\t['एमडीआई-जेड-क्रम']\n",
      "Console\t\t['आईपाइथन']\n",
      "ID\t\t['आईडी']\n",
      "recording\t\t['रेकोर्डिंग']\n",
      "entry\t\t['अंतिम']\n",
      "box\t\t['(नोड)']\n",
      "duration\t\t['अवधि']\n",
      "currently\t\t['लेने']\n",
      "event\t\t['']\n",
      "Accessibility\t\t['पहुंचनीयता']\n",
      "Selected\t\t['गए']\n",
      "Layer\t\t['स्तर']\n",
      "Perform\t\t['संपन्न']\n",
      "WIDGET\t\t['विडजेट']\n",
      "/\t\t['शुरू']\n",
      "Browse\t\t['एपीआई']\n",
      "plugin\t\t['प्लग-इन']\n",
      "Monitor\t\t['मानिटर']\n",
      "application\t\t['अनुप्रयोग']\n",
      "default\t\t['डिफोल्ट']\n",
      "Relative\t\t['सापेक्ष']\n",
      "plugins\t\t['रूप']\n",
      "current\t\t['इस']\n",
      "Highlight\t\t['रकें']\n",
      "methods\t\t['में']\n",
      "stop\t\t['करो']\n",
      "from\t\t['जैसे-जैसे']\n",
      "sources\t\t['उन्हें']\n",
      "when\t\t['आसंधि']\n",
      "nodes\t\t['बक्से']\n",
      "Event\t\t['घटना']\n",
      "bottom\t\t['निचले']\n",
      "and\t\t['और']\n",
      "private\t\t['छिपाएं']\n",
      "attributes\t\t['निजी']\n",
      "monitor\t\t['(बोर्डर)']\n",
      "_\t\t['']\n",
      "highlight\t\t['रंग']\n",
      "lear\t\t['हटाएं']\n",
      "border\t\t['सीमांत']\n",
      "of\t\t['की']\n",
      "Absolute\t\t['निरपेक्ष']\n",
      "last\t\t['प्रविष्ट']\n",
      "console\t\t['काम']\n",
      "Alpha\t\t['अल्फा']\n",
      "log\t\t['मिटाओ']\n",
      "panel\t\t['खाका']\n",
      "opacity\t\t['पारदर्शिता।']\n",
      "an\t\t['का']\n",
      "color\t\t['हाइलाइट']\n",
      "various\t\t['विधियों']\n",
      "order\t\t['किए']\n",
      "The\t\t['पटल']\n",
      "Hide\t\t['गुणों']\n",
      "Give\t\t['लाभ']\n",
      "Events\t\t['घटनाओं']\n",
      "(no\t\t['विवरण']\n",
      "Property\t\t['गुणधर्म']\n",
      "selected\t\t['चुने']\n",
      "disabled\t\t['प्लग-इनों']\n",
      "top\t\t['ऊपरी']\n",
      "as\t\t['उन']\n",
      "accessibility\t\t['व्यायाम']\n",
      "0,\t\t['0,']\n",
      "Accessible\t\t['पहुंचनीय']\n",
      "Col\t\t['संग्रह']\n",
      "0\t\t['0']\n",
      "API\t\t['विचरक']\n",
      "Show\t\t['दिखाएं']\n",
      "Shows\t\t['दर्शाता']\n",
      "fill\t\t['भराई']\n",
      "plication\t\t['दें']\n",
      "by\t\t['किया']\n",
      "border.\t\t['अपारदर्शिता।']\n",
      "Accerciser\t\t['अन्वेषक']\n",
      "Toolkit\t\t['औजार']\n",
      "events\t\t['घटनाएं']\n",
      "that\t\t['जिन्हें']\n",
      "layout\t\t['लिए']\n",
      "-\t\t['प्राप्त']\n",
      "position\t\t['स्थिति']\n",
      "types\t\t['प्रकारों']\n",
      "on\t\t['को']\n",
      "accessible\t\t['समय']\n",
      "Description\t\t['वर्णन']\n",
      "Acti\t\t['o)']\n",
      "Value\t\t['मान']\n",
      "MDI\t\t['(मेथड)']\n",
      "the\t\t['से']\n",
      "Source\t\t['स्रोत']\n",
      "workout\t\t['अपने']\n",
      "C\t\t['कन्सोल']\n"
     ]
    }
   ],
   "source": [
    "dictionary = {}\n",
    "\n",
    "for i in range(100):\n",
    "  print(english_v2t[i], end='\\t\\t')\n",
    "  print([hindi_v2t[ app_mat[i].argmax() ]])\n",
    "  dictionary[english_v2t[i]] = hindi_v2t[ app_mat[i].argmax() ]"
   ]
  },
  {
   "cell_type": "markdown",
   "metadata": {
    "id": "bmVy_hXrsdH2"
   },
   "source": [
    "# Reordering the sentences.\n",
    "## BiGram Model for 2 word sequence"
   ]
  },
  {
   "cell_type": "code",
   "execution_count": 32,
   "metadata": {
    "id": "wh6GUIrAHnsP"
   },
   "outputs": [],
   "source": [
    "def get2gram(sentence):\n",
    "  sentence = sentence.split(\" \")\n",
    "  return [[x,y] for x,y in zip(sentence[:-1], sentence[1:])]"
   ]
  },
  {
   "cell_type": "code",
   "execution_count": 33,
   "metadata": {
    "colab": {
     "base_uri": "https://localhost:8080/"
    },
    "id": "I3V9A4kWtkA2",
    "outputId": "61df121d-2a01-4366-b03b-ff1e2b87eeec"
   },
   "outputs": [
    {
     "data": {
      "text/plain": [
       "[['Hi', 'shay'], ['shay', 'patric'], ['patric', 'cormac']]"
      ]
     },
     "execution_count": 33,
     "metadata": {},
     "output_type": "execute_result"
    }
   ],
   "source": [
    "get2gram(\"Hi shay patric cormac\")"
   ]
  },
  {
   "cell_type": "markdown",
   "metadata": {
    "id": "fo6h_xFwuE8S"
   },
   "source": [
    "# Get probablity for 1st token"
   ]
  },
  {
   "cell_type": "code",
   "execution_count": 34,
   "metadata": {
    "colab": {
     "base_uri": "https://localhost:8080/"
    },
    "id": "J-MmJyFjuEEQ",
    "outputId": "a9092f28-8ef0-4858-9cd3-56cbff99ae0e"
   },
   "outputs": [
    {
     "data": {
      "text/plain": [
       "{'': 0,\n",
       " 'घटना': 4,\n",
       " 'संस्करण': 1,\n",
       " 'आकार': 1,\n",
       " 'घटित': 0,\n",
       " 'स्रोत': 1,\n",
       " 'सापेक्ष': 1,\n",
       " 'जैसे-जैसे': 0,\n",
       " 'अल्फा': 1,\n",
       " 'विडजेट': 1,\n",
       " 'हाइलाइट': 2,\n",
       " 'किए': 0,\n",
       " 'एपीआई': 1,\n",
       " 'करें': 0,\n",
       " 'रूप': 0,\n",
       " 'में': 0,\n",
       " 'लेने': 0,\n",
       " 'अपारदर्शिता।': 0,\n",
       " '(C': 0,\n",
       " 'विधियों': 0,\n",
       " 'उन्हें': 0,\n",
       " 'संपन्न': 0,\n",
       " 'ऊपरी': 1,\n",
       " 'गए': 0,\n",
       " 'स्तर': 1,\n",
       " 'प्लग-इनों': 0,\n",
       " 'और': 0,\n",
       " '(बोर्डर)': 0,\n",
       " 'रोजनामचा': 0,\n",
       " 'निचले': 1,\n",
       " 'खाका': 0,\n",
       " 'किया': 0,\n",
       " 'अनुप्रयोग': 1,\n",
       " 'जिन्हें': 0,\n",
       " 'छिपाएं': 0,\n",
       " 'रंग': 0,\n",
       " '_)': 0,\n",
       " 'करो/रोको': 0,\n",
       " 'उन': 1,\n",
       " 'डिफोल्ट': 0,\n",
       " 'दर्शाता': 0,\n",
       " '(नोड)': 0,\n",
       " 'अवधि': 1,\n",
       " 'गुणधर्म': 1,\n",
       " 'पटल': 0,\n",
       " 'घटनाएं': 0,\n",
       " 'प्राप्त': 0,\n",
       " 'एमडीआई-जेड-क्रम': 1,\n",
       " 'नहीं': 0,\n",
       " 'लाभ': 0,\n",
       " 'मानिटर': 0,\n",
       " 'विधि': 1,\n",
       " 'विवरण': 0,\n",
       " 'आसंधि': 0,\n",
       " 'भराई': 1,\n",
       " 'आईडी': 1,\n",
       " '(मेथड)': 0,\n",
       " 'हटाएं': 0,\n",
       " 'संग्रह': 1,\n",
       " 'घटनाओं': 1,\n",
       " 'की': 0,\n",
       " 'औजार': 1,\n",
       " 'जिसे': 0,\n",
       " 'हो,': 0,\n",
       " 'o)': 0,\n",
       " 'आईपाइथन': 1,\n",
       " 'स्थिति': 0,\n",
       " 'पहुंचनीयता': 0,\n",
       " 'प्लग-इन': 0,\n",
       " 'बक्से': 0,\n",
       " '0,': 1,\n",
       " 'चुनते': 0,\n",
       " 'उसकी': 0,\n",
       " 'काम': 0,\n",
       " 'प्रकारों': 0,\n",
       " '(_': 0,\n",
       " '0': 0,\n",
       " 'विचरण': 0,\n",
       " 'व्यायाम': 0,\n",
       " 'अंतिम': 1,\n",
       " 'वर्णन': 1,\n",
       " 'M)': 0,\n",
       " 'एक्सेसेबेल': 0,\n",
       " 'चुने': 3,\n",
       " 'को': 0,\n",
       " 'विचरक': 0,\n",
       " 'निजी': 1,\n",
       " 'होती': 0,\n",
       " 'कन्सोल': 0,\n",
       " 'रकें': 0,\n",
       " 'रेकोर्डिंग': 0,\n",
       " 'पहुंचनीय': 2,\n",
       " 'सीमांत': 1,\n",
       " 'दें': 0,\n",
       " 'कोई': 1,\n",
       " 'शुरू': 0,\n",
       " 'दिखाएं': 1,\n",
       " 'निष्क्रिय': 0,\n",
       " 'अपने': 1,\n",
       " 'विभिन्न': 0,\n",
       " 'गुणों': 0,\n",
       " 'चुनाव': 1,\n",
       " 'हैं,': 0,\n",
       " 'स्रोतों': 0,\n",
       " 'है': 0,\n",
       " 'के': 0,\n",
       " 'मिटाओ': 0,\n",
       " 'बक्सा': 0,\n",
       " 'मान': 1,\n",
       " 'प्रविष्ट': 0,\n",
       " 'समय': 0,\n",
       " 'पारदर्शिता।': 0,\n",
       " 'अन्वेषक': 0,\n",
       " 'एक्सेर्साइसर': 1,\n",
       " 'करो': 0,\n",
       " 'निरपेक्ष': 1,\n",
       " 'सूची': 0,\n",
       " 'इस': 2,\n",
       " 'सभी': 1,\n",
       " 'कार्रवाई': 2,\n",
       " 'का': 0,\n",
       " 'से': 0,\n",
       " 'गया': 0,\n",
       " 'अंतर्क्रियात्मक': 0,\n",
       " 'लिए': 0}"
      ]
     },
     "execution_count": 34,
     "metadata": {},
     "output_type": "execute_result"
    }
   ],
   "source": [
    "start_token = {}\n",
    "for i in hindi_tokens:\n",
    "  start_token[i] = 0\n",
    "\n",
    "for strt in sentence_hindi_tokens:\n",
    "  start_token[strt[0]] += 1\n",
    "\n",
    "start_token"
   ]
  },
  {
   "cell_type": "markdown",
   "metadata": {
    "id": "SLV4MJd8wB9D"
   },
   "source": [
    "# Now we will get probablity of next word based on previous word"
   ]
  },
  {
   "cell_type": "code",
   "execution_count": 35,
   "metadata": {
    "id": "QRkt0hgQttSZ"
   },
   "outputs": [],
   "source": [
    "conditional_probablity = {}\n",
    "for i in hindi_tokens:\n",
    "  conditional_probablity[i] = {}\n",
    "  for j in hindi_tokens:\n",
    "    conditional_probablity[i][j] = 0"
   ]
  },
  {
   "cell_type": "code",
   "execution_count": 36,
   "metadata": {
    "id": "AS-4zN-0RRQT"
   },
   "outputs": [],
   "source": [
    "for first in conditional_probablity:\n",
    "  for second in conditional_probablity[first]:\n",
    "\n",
    "    for hnd_sen in hindi:\n",
    "      search = first + \" \" + second\n",
    "      conditional_probablity[first][second] += hnd_sen.count(search)"
   ]
  },
  {
   "cell_type": "markdown",
   "metadata": {
    "id": "dyYKQAalSP1-"
   },
   "source": [
    "# Save the dictionary and probablity matrix"
   ]
  },
  {
   "cell_type": "code",
   "execution_count": 37,
   "metadata": {
    "id": "iOaLn1jCRwdt"
   },
   "outputs": [],
   "source": [
    "import json\n",
    "\n",
    "\n",
    "with open('dict.json', 'w', encoding='utf-8') as outfile:\n",
    "    json.dump(dictionary, outfile, ensure_ascii=False)\n",
    "\n",
    "with open(\"joint_probab.json\", 'w', encoding='utf-8') as outfile:\n",
    "    json.dump(conditional_probablity, outfile, ensure_ascii=False)\n",
    "\n",
    "with open('start_token.json', 'w', encoding='utf-8') as outfile:\n",
    "    json.dump(start_token, outfile, ensure_ascii=False)\n",
    "    "
   ]
  },
  {
   "cell_type": "markdown",
   "metadata": {
    "id": "H5Nv1EIgUsGS"
   },
   "source": [
    "# Actual Translation and rearrangement"
   ]
  },
  {
   "cell_type": "code",
   "execution_count": 38,
   "metadata": {
    "id": "o8i_rYlQWNro"
   },
   "outputs": [],
   "source": [
    "dictionary2 = None\n",
    "with open('dict.json', 'r',encoding='utf-8') as f:\n",
    "  dictionary2 = json.loads(f.read())"
   ]
  },
  {
   "cell_type": "code",
   "execution_count": 39,
   "metadata": {
    "id": "qOVN-2tnVjP0"
   },
   "outputs": [],
   "source": [
    "def dict_translator(eng_sen):\n",
    "  tkns = eng_sen.split(\" \")\n",
    "  tkns = [dictionary2[x] for x in tkns]\n",
    "  return \" \".join(tkns), tkns"
   ]
  },
  {
   "cell_type": "code",
   "execution_count": 42,
   "metadata": {
    "id": "Asq2UgB3SpmX"
   },
   "outputs": [],
   "source": [
    "to_translate = \"Show top types of Method\""
   ]
  },
  {
   "cell_type": "code",
   "execution_count": 43,
   "metadata": {
    "colab": {
     "base_uri": "https://localhost:8080/",
     "height": 36
    },
    "id": "LMX5VLQ6V3qJ",
    "outputId": "ccd25cf6-ec96-4cfc-9227-32bdb61cf33f"
   },
   "outputs": [
    {
     "data": {
      "text/plain": [
       "'दिखाएं ऊपरी प्रकारों की में'"
      ]
     },
     "execution_count": 43,
     "metadata": {},
     "output_type": "execute_result"
    }
   ],
   "source": [
    "intermediate, tkns = dict_translator(to_translate)\n",
    "intermediate"
   ]
  },
  {
   "cell_type": "code",
   "execution_count": 44,
   "metadata": {
    "colab": {
     "base_uri": "https://localhost:8080/",
     "height": 36
    },
    "id": "PdI0eAYFWlF_",
    "outputId": "8a11ef93-9d6f-40cf-f5ba-eb136f9e3e01"
   },
   "outputs": [
    {
     "data": {
      "text/plain": [
       "'दिखाएं ऊपरी प्रकारों की में'"
      ]
     },
     "execution_count": 44,
     "metadata": {},
     "output_type": "execute_result"
    }
   ],
   "source": [
    "intermediate, tkns = dict_translator(to_translate)\n",
    "\n",
    "def reorder(intermediate, tkns):\n",
    "  rearranged = []\n",
    "  start_probab = [start_token[x] for x in tkns]\n",
    "  rearranged.append( tkns[ np.argmax(start_probab) ] )\n",
    "  # rearranged, start_probab, tkns\n",
    "  tkns.remove( rearranged[-1] )\n",
    "\n",
    "  for _ in range(len(tkns)):\n",
    "    next_probab = [conditional_probablity[rearranged[-1]][x] for x in tkns ]\n",
    "    rearranged.append( tkns[ np.argmax(next_probab) ] )\n",
    "    tkns.remove( rearranged[-1] )\n",
    "\n",
    "  return ' '.join(rearranged)\n",
    "\n",
    "reorder(intermediate, tkns)"
   ]
  },
  {
   "cell_type": "code",
   "execution_count": 45,
   "metadata": {
    "id": "tLfDAcraVVBM"
   },
   "outputs": [],
   "source": [
    "good_quality = \"Method types bottom of Hide from Show Property Size top Selected Source opacity and plugin Monitor WIDGET position fill Relative action\""
   ]
  },
  {
   "cell_type": "markdown",
   "metadata": {
    "id": "P30P6wm-bWj2"
   },
   "source": [
    "# Final Result"
   ]
  },
  {
   "cell_type": "code",
   "execution_count": 46,
   "metadata": {
    "id": "gwu6_d8UZuvC"
   },
   "outputs": [],
   "source": [
    "def full_translation(to_translate):\n",
    "  intermediate, tkns = dict_translator(to_translate)\n",
    "  return reorder(intermediate, tkns)"
   ]
  },
  {
   "cell_type": "code",
   "execution_count": 48,
   "metadata": {
    "colab": {
     "base_uri": "https://localhost:8080/",
     "height": 36
    },
    "id": "SvJAXr2tbmPK",
    "outputId": "43745981-0fbf-499b-b96e-6f3339dccf74"
   },
   "outputs": [
    {
     "data": {
      "text/plain": [
       "'दिखाएं ऊपरी प्रकारों की में'"
      ]
     },
     "execution_count": 48,
     "metadata": {},
     "output_type": "execute_result"
    }
   ],
   "source": [
    "full_translation(\"Show top types of methods\")"
   ]
  },
  {
   "cell_type": "code",
   "execution_count": 49,
   "metadata": {
    "colab": {
     "base_uri": "https://localhost:8080/",
     "height": 36
    },
    "id": "5SG2_YN-brY1",
    "outputId": "67dcf115-88a8-457a-af51-cdab46491ec3"
   },
   "outputs": [
    {
     "data": {
      "text/plain": [
       "'गुणों गए मानिटर प्लग-इन'"
      ]
     },
     "execution_count": 49,
     "metadata": {},
     "output_type": "execute_result"
    }
   ],
   "source": [
    "full_translation('Hide Selected Monitor plugin')"
   ]
  },
  {
   "cell_type": "code",
   "execution_count": 50,
   "metadata": {
    "colab": {
     "base_uri": "https://localhost:8080/"
    },
    "id": "XyyJLt1fdEkH",
    "outputId": "ea9c2062-cea0-444f-b69b-bbb70ffa52e3"
   },
   "outputs": [
    {
     "data": {
      "text/plain": [
       "0        Give your application an accessibility workout\n",
       "1                     Accerciser Accessibility Explorer\n",
       "2        The default plugin layout for the bottom panel\n",
       "3           The default plugin layout for the top panel\n",
       "4        A list of plugins that are disabled by default\n",
       "5                                    Highlight duration\n",
       "6     The duration of the highlight box when selecti...\n",
       "7                                Highlight border color\n",
       "8        The color and opacity of the highlight border.\n",
       "9                                  Highlight fill color\n",
       "10         The color and opacity of the highlight fill.\n",
       "11                                          API Browser\n",
       "12    Browse the various methods of the current acce...\n",
       "13                              Hide private attributes\n",
       "14                                               Method\n",
       "15                                             Property\n",
       "16                                                Value\n",
       "17                                      IPython Console\n",
       "18    Interactive console for manipulating currently...\n",
       "19                                        Event monitor\n",
       "20                                     _ Monitor Events\n",
       "21                                   C _ lear Selection\n",
       "22                                           Everything\n",
       "23                                 Selected application\n",
       "24                                  Selected accessible\n",
       "25                                               Source\n",
       "26                                        Event Monitor\n",
       "27    Shows events as they occur from selected types...\n",
       "28                           Highlight last event entry\n",
       "29                         Start / stop event recording\n",
       "30                                      Clear event log\n",
       "31                                     (no description)\n",
       "32                                          Description\n",
       "33                                                 Show\n",
       "34                                         _ Accessible\n",
       "35                                       Perform action\n",
       "36                                            Acti _ on\n",
       "37                                                   ID\n",
       "38                                              Toolkit\n",
       "39                                              Version\n",
       "40                                       Ap _ plication\n",
       "41                                        Col _ lection\n",
       "42                                                 0, 0\n",
       "43                                    Relative position\n",
       "44                                                 Size\n",
       "45                                               WIDGET\n",
       "46                                                Layer\n",
       "47                                      MDI - Z - order\n",
       "48                                                Alpha\n",
       "49                                    Absolute position\n",
       "Name: english, dtype: object"
      ]
     },
     "execution_count": 50,
     "metadata": {},
     "output_type": "execute_result"
    }
   ],
   "source": [
    "english"
   ]
  },
  {
   "cell_type": "code",
   "execution_count": 80,
   "metadata": {
    "colab": {
     "base_uri": "https://localhost:8080/",
     "height": 36
    },
    "id": "lZJ6cVHSdlno",
    "outputId": "46ad4ee6-bdca-42d4-a522-73b5e3dd632c"
   },
   "outputs": [
    {
     "data": {
      "text/plain": [
       "'सापेक्ष स्थिति'"
      ]
     },
     "execution_count": 80,
     "metadata": {},
     "output_type": "execute_result"
    }
   ],
   "source": [
    "full_translation('Relative position')"
   ]
  },
  {
   "cell_type": "code",
   "execution_count": 81,
   "metadata": {
    "colab": {
     "base_uri": "https://localhost:8080/",
     "height": 36
    },
    "id": "bsF0D5TXhkEL",
    "outputId": "6a5ce1c8-2463-42a9-ba1b-676add2af874",
    "scrolled": true
   },
   "outputs": [
    {
     "data": {
      "text/plain": [
       "'सापेक्ष स्थिति'"
      ]
     },
     "execution_count": 81,
     "metadata": {},
     "output_type": "execute_result"
    }
   ],
   "source": [
    "hindi[43]"
   ]
  },
  {
   "cell_type": "markdown",
   "metadata": {},
   "source": [
    "# BLEU Score"
   ]
  },
  {
   "cell_type": "code",
   "execution_count": 83,
   "metadata": {
    "id": "TEeVtNf0hlCD"
   },
   "outputs": [],
   "source": [
    "input_string = \"Hide private attributes\"\n",
    "input_string_hindi=[\"निजी गुणों को छिपाएं\",\"भराई के रंग को हाइलाइट करें\",\"सीमांत के रंग को हाइलाइट करें\",\"अंतिम प्रविष्ट घटना को हाइलाइट करो\",\"घटना रेकोर्डिंग शुरू करो/रोको\",\"सापेक्ष स्थिति\"]\n",
    "predicted_hindi_string=[\"निजी गुणों छिपाएं\",\"हाइलाइट रकें भराई\",\"हाइलाइट रकें सीमांत\",\"अंतिम प्रविष्ट  रकें\",\"करो/रोको शुरू करो  रेकोर्डिंग\",\"सापेक्ष स्थिति\"]\n",
    "token_array = []\n",
    "token_array_hindi=[]\n",
    "token_array_predicted_hindi=[]"
   ]
  },
  {
   "cell_type": "code",
   "execution_count": 85,
   "metadata": {},
   "outputs": [],
   "source": [
    "# token_array = input_string.split()\n",
    "original_hindi_array=[]\n",
    "predicted_hindi_array=[]\n",
    "for i in range(len(input_string_hindi)):\n",
    "    token_array_hindi=input_string_hindi[i].split(' ')\n",
    "    token_array_predicted_hindi=predicted_hindi_string[i].split(' ')\n",
    "    original_hindi_array.append(token_array_hindi)\n",
    "    predicted_hindi_array.append( token_array_predicted_hindi)\n",
    "    \n"
   ]
  },
  {
   "cell_type": "code",
   "execution_count": 86,
   "metadata": {},
   "outputs": [
    {
     "data": {
      "text/plain": [
       "[['निजी', 'गुणों', 'को', 'छिपाएं'],\n",
       " ['भराई', 'के', 'रंग', 'को', 'हाइलाइट', 'करें'],\n",
       " ['सीमांत', 'के', 'रंग', 'को', 'हाइलाइट', 'करें'],\n",
       " ['अंतिम', 'प्रविष्ट', 'घटना', 'को', 'हाइलाइट', 'करो'],\n",
       " ['घटना', 'रेकोर्डिंग', 'शुरू', 'करो/रोको'],\n",
       " ['सापेक्ष', 'स्थिति']]"
      ]
     },
     "execution_count": 86,
     "metadata": {},
     "output_type": "execute_result"
    }
   ],
   "source": [
    "original_hindi_array"
   ]
  },
  {
   "cell_type": "code",
   "execution_count": 87,
   "metadata": {},
   "outputs": [
    {
     "data": {
      "text/plain": [
       "[['निजी', 'गुणों', 'छिपाएं'],\n",
       " ['हाइलाइट', 'रकें', 'भराई'],\n",
       " ['हाइलाइट', 'रकें', 'सीमांत'],\n",
       " ['अंतिम', 'प्रविष्ट', '', 'रकें'],\n",
       " ['करो/रोको', 'शुरू', 'करो', '', 'रेकोर्डिंग'],\n",
       " ['सापेक्ष', 'स्थिति']]"
      ]
     },
     "execution_count": 87,
     "metadata": {},
     "output_type": "execute_result"
    }
   ],
   "source": [
    "predicted_hindi_array"
   ]
  },
  {
   "cell_type": "code",
   "execution_count": 88,
   "metadata": {},
   "outputs": [
    {
     "data": {
      "text/plain": [
       "[3, 3, 3, 4, 5, 2]"
      ]
     },
     "execution_count": 88,
     "metadata": {},
     "output_type": "execute_result"
    }
   ],
   "source": [
    "tot_original_len=[]\n",
    "for i in range(len(predicted_hindi_array)):\n",
    "    count=0\n",
    "    for j in range(len(predicted_hindi_array[i])):\n",
    "        count=count+1\n",
    "    tot_original_len.append(count)\n",
    "    \n",
    "tot_original_len"
   ]
  },
  {
   "cell_type": "code",
   "execution_count": 89,
   "metadata": {},
   "outputs": [
    {
     "data": {
      "text/plain": [
       "[3, 2, 2, 2, 3, 2]"
      ]
     },
     "execution_count": 89,
     "metadata": {},
     "output_type": "execute_result"
    }
   ],
   "source": [
    "tot_predicted_len=[]\n",
    "for i in range(len(predicted_hindi_array)):\n",
    "    to_test_orignal_token_array_hindi=[x for x in original_hindi_array[i]]\n",
    "    found_predicted_hindi_count=0\n",
    "    for j in range(len(predicted_hindi_array[i])):\n",
    "        for k in range(len(to_test_orignal_token_array_hindi)):\n",
    "            if(predicted_hindi_array[i][j]==to_test_orignal_token_array_hindi[k]):\n",
    "                found_predicted_hindi_count=found_predicted_hindi_count+1\n",
    "#                 print(k)\n",
    "#                 to_test_orignal_token_array_hindi.remove(to_test_orignal_token_array_hindi[k])\n",
    "                \n",
    "    tot_predicted_len.append(found_predicted_hindi_count)            \n",
    "            \n",
    "tot_predicted_len"
   ]
  },
  {
   "cell_type": "code",
   "execution_count": 90,
   "metadata": {},
   "outputs": [
    {
     "data": {
      "text/plain": [
       "[100.0, 66.66666666666666, 66.66666666666666, 50.0, 60.0, 100.0]"
      ]
     },
     "execution_count": 90,
     "metadata": {},
     "output_type": "execute_result"
    }
   ],
   "source": [
    "unicode_belu=[]\n",
    "for i in range(len(predicted_hindi_array)):\n",
    "    belu_score=(tot_predicted_len[i]/tot_original_len[i]) * 100\n",
    "    unicode_belu.append(belu_score)\n",
    "unicode_belu"
   ]
  },
  {
   "cell_type": "code",
   "execution_count": 91,
   "metadata": {},
   "outputs": [
    {
     "data": {
      "text/plain": [
       "73.88888888888889"
      ]
     },
     "execution_count": 91,
     "metadata": {},
     "output_type": "execute_result"
    }
   ],
   "source": [
    "avg_belu=0\n",
    "for i in range(len(unicode_belu)):\n",
    "    avg_belu=avg_belu+unicode_belu[i]\n",
    "\n",
    "overallbelu=avg_belu/len(unicode_belu)\n",
    "overallbelu"
   ]
  },
  {
   "cell_type": "markdown",
   "metadata": {},
   "source": [
    "# bigram"
   ]
  },
  {
   "cell_type": "code",
   "execution_count": 92,
   "metadata": {},
   "outputs": [
    {
     "data": {
      "text/plain": [
       "[['निजी', 'गुणों', 'को', 'छिपाएं'],\n",
       " ['भराई', 'के', 'रंग', 'को', 'हाइलाइट', 'करें'],\n",
       " ['सीमांत', 'के', 'रंग', 'को', 'हाइलाइट', 'करें'],\n",
       " ['अंतिम', 'प्रविष्ट', 'घटना', 'को', 'हाइलाइट', 'करो'],\n",
       " ['घटना', 'रेकोर्डिंग', 'शुरू', 'करो/रोको'],\n",
       " ['सापेक्ष', 'स्थिति']]"
      ]
     },
     "execution_count": 92,
     "metadata": {},
     "output_type": "execute_result"
    }
   ],
   "source": [
    "original_hindi_array"
   ]
  },
  {
   "cell_type": "code",
   "execution_count": 93,
   "metadata": {},
   "outputs": [
    {
     "data": {
      "text/plain": [
       "[['निजी', 'गुणों', 'छिपाएं'],\n",
       " ['हाइलाइट', 'रकें', 'भराई'],\n",
       " ['हाइलाइट', 'रकें', 'सीमांत'],\n",
       " ['अंतिम', 'प्रविष्ट', '', 'रकें'],\n",
       " ['करो/रोको', 'शुरू', 'करो', '', 'रेकोर्डिंग'],\n",
       " ['सापेक्ष', 'स्थिति']]"
      ]
     },
     "execution_count": 93,
     "metadata": {},
     "output_type": "execute_result"
    }
   ],
   "source": [
    "predicted_hindi_array"
   ]
  },
  {
   "cell_type": "code",
   "execution_count": 94,
   "metadata": {},
   "outputs": [
    {
     "data": {
      "text/plain": [
       "[2, 2, 2, 3, 4, 1]"
      ]
     },
     "execution_count": 94,
     "metadata": {},
     "output_type": "execute_result"
    }
   ],
   "source": [
    "total_bigram_in_input_predicted=[]\n",
    "for i in range(len(predicted_hindi_array)):\n",
    "    count=0\n",
    "    for j in range(len(predicted_hindi_array[i])):\n",
    "        count=count+1\n",
    "    total_bigram_in_input_predicted.append(count-1)\n",
    "    \n",
    "total_bigram_in_input_predicted"
   ]
  },
  {
   "cell_type": "code",
   "execution_count": 95,
   "metadata": {},
   "outputs": [
    {
     "data": {
      "text/plain": [
       "[3, 5, 5, 5, 3, 1]"
      ]
     },
     "execution_count": 95,
     "metadata": {},
     "output_type": "execute_result"
    }
   ],
   "source": [
    "total_bigram_in_orignal=[]\n",
    "for i in range(len(original_hindi_array)):\n",
    "    count=0\n",
    "    for j in range(len(original_hindi_array[i])):\n",
    "        count=count+1\n",
    "    total_bigram_in_orignal.append(count-1)\n",
    "    \n",
    "total_bigram_in_orignal"
   ]
  },
  {
   "cell_type": "code",
   "execution_count": 96,
   "metadata": {},
   "outputs": [
    {
     "data": {
      "text/plain": [
       "[['निजी', 'गुणों', 'छिपाएं'],\n",
       " ['हाइलाइट', 'रकें', 'भराई'],\n",
       " ['हाइलाइट', 'रकें', 'सीमांत'],\n",
       " ['अंतिम', 'प्रविष्ट', '', 'रकें'],\n",
       " ['करो/रोको', 'शुरू', 'करो', '', 'रेकोर्डिंग'],\n",
       " ['सापेक्ष', 'स्थिति']]"
      ]
     },
     "execution_count": 96,
     "metadata": {},
     "output_type": "execute_result"
    }
   ],
   "source": [
    "predicted_hindi_array"
   ]
  },
  {
   "cell_type": "code",
   "execution_count": 97,
   "metadata": {},
   "outputs": [
    {
     "data": {
      "text/plain": [
       "['निजी', 'गुणों', 'को', 'छिपाएं']"
      ]
     },
     "execution_count": 97,
     "metadata": {},
     "output_type": "execute_result"
    }
   ],
   "source": [
    "to_test_orignal_bigram_token_array_hindi=[x for x in original_hindi_array[0]]\n",
    "to_test_orignal_bigram_token_array_hindi"
   ]
  },
  {
   "cell_type": "code",
   "execution_count": 98,
   "metadata": {},
   "outputs": [
    {
     "data": {
      "text/plain": [
       "[['निजी', 'गुणों', 'छिपाएं'],\n",
       " ['हाइलाइट', 'रकें', 'भराई'],\n",
       " ['हाइलाइट', 'रकें', 'सीमांत'],\n",
       " ['अंतिम', 'प्रविष्ट', '', 'रकें'],\n",
       " ['करो/रोको', 'शुरू', 'करो', '', 'रेकोर्डिंग'],\n",
       " ['सापेक्ष', 'स्थिति']]"
      ]
     },
     "execution_count": 98,
     "metadata": {},
     "output_type": "execute_result"
    }
   ],
   "source": [
    "predicted_hindi_array"
   ]
  },
  {
   "cell_type": "code",
   "execution_count": 99,
   "metadata": {},
   "outputs": [
    {
     "data": {
      "text/plain": [
       "[['निजी', 'गुणों', 'को', 'छिपाएं'],\n",
       " ['भराई', 'के', 'रंग', 'को', 'हाइलाइट', 'करें'],\n",
       " ['सीमांत', 'के', 'रंग', 'को', 'हाइलाइट', 'करें'],\n",
       " ['अंतिम', 'प्रविष्ट', 'घटना', 'को', 'हाइलाइट', 'करो'],\n",
       " ['घटना', 'रेकोर्डिंग', 'शुरू', 'करो/रोको'],\n",
       " ['सापेक्ष', 'स्थिति']]"
      ]
     },
     "execution_count": 99,
     "metadata": {},
     "output_type": "execute_result"
    }
   ],
   "source": [
    "original_hindi_array"
   ]
  },
  {
   "cell_type": "code",
   "execution_count": 100,
   "metadata": {},
   "outputs": [
    {
     "data": {
      "text/plain": [
       "[1, 0, 0, 1, 0, 1]"
      ]
     },
     "execution_count": 100,
     "metadata": {},
     "output_type": "execute_result"
    }
   ],
   "source": [
    "bigram_output=[]\n",
    "for i in range(len(predicted_hindi_array)):\n",
    "    found_bigram_hindi_count=0;\n",
    "    to_test_orignal_bigram_token_array_hindi=[x for x in original_hindi_array[i]]\n",
    "    for j in range(total_bigram_in_input_predicted[i]):\n",
    "        for k in range(total_bigram_in_orignal[i]):\n",
    "            if(predicted_hindi_array[i][j]==to_test_orignal_bigram_token_array_hindi[k] and predicted_hindi_array[i][j+1]==to_test_orignal_bigram_token_array_hindi[k+1]):\n",
    "                found_bigram_hindi_count=found_bigram_hindi_count+1\n",
    "#                 to_test_orignal_bigram_token_array_hindi.remove(to_test_orignal_bigram_token_array_hindi[k])\n",
    "    bigram_output.append(found_bigram_hindi_count)   \n",
    "            \n",
    "bigram_output"
   ]
  },
  {
   "cell_type": "code",
   "execution_count": 101,
   "metadata": {},
   "outputs": [
    {
     "data": {
      "text/plain": [
       "[50.0, 0.0, 0.0, 33.33333333333333, 0.0, 100.0]"
      ]
     },
     "execution_count": 101,
     "metadata": {},
     "output_type": "execute_result"
    }
   ],
   "source": [
    "bigram_belu_new=[]\n",
    "for i in range(len(predicted_hindi_array)):\n",
    "    belu_bigram_score=(bigram_output[i]/total_bigram_in_input_predicted[i]) * 100\n",
    "    bigram_belu_new.append(belu_bigram_score)\n",
    "\n",
    "bigram_belu_new"
   ]
  },
  {
   "cell_type": "code",
   "execution_count": 102,
   "metadata": {},
   "outputs": [
    {
     "data": {
      "text/plain": [
       "30.555555555555554"
      ]
     },
     "execution_count": 102,
     "metadata": {},
     "output_type": "execute_result"
    }
   ],
   "source": [
    "final_bigram=0\n",
    "for i in range(len(bigram_belu_new)):\n",
    "    final_bigram=final_bigram+bigram_belu_new[i]\n",
    "\n",
    "final_output=final_bigram/len(bigram_belu_new)\n",
    "final_output"
   ]
  }
 ],
 "metadata": {
  "colab": {
   "provenance": []
  },
  "kernelspec": {
   "display_name": "Python 3 (ipykernel)",
   "language": "python",
   "name": "python3"
  },
  "language_info": {
   "codemirror_mode": {
    "name": "ipython",
    "version": 3
   },
   "file_extension": ".py",
   "mimetype": "text/x-python",
   "name": "python",
   "nbconvert_exporter": "python",
   "pygments_lexer": "ipython3",
   "version": "3.11.3"
  },
  "widgets": {
   "application/vnd.jupyter.widget-state+json": {
    "062f6d9003d04f8b91fe32f9a78b901f": {
     "model_module": "@jupyter-widgets/controls",
     "model_module_version": "1.5.0",
     "model_name": "HTMLModel",
     "state": {
      "_dom_classes": [],
      "_model_module": "@jupyter-widgets/controls",
      "_model_module_version": "1.5.0",
      "_model_name": "HTMLModel",
      "_view_count": null,
      "_view_module": "@jupyter-widgets/controls",
      "_view_module_version": "1.5.0",
      "_view_name": "HTMLView",
      "description": "",
      "description_tooltip": null,
      "layout": "IPY_MODEL_990c1a2b98454af8b38ab64a8dcb1d21",
      "placeholder": "​",
      "style": "IPY_MODEL_f326f4315f4d48789f18f2d13678f8d1",
      "value": " 117/117 [00:02&lt;00:00, 55.73it/s]"
     }
    },
    "0cf1f5e0e9754a5a9afa6678d85cc7c4": {
     "model_module": "@jupyter-widgets/controls",
     "model_module_version": "1.5.0",
     "model_name": "HBoxModel",
     "state": {
      "_dom_classes": [],
      "_model_module": "@jupyter-widgets/controls",
      "_model_module_version": "1.5.0",
      "_model_name": "HBoxModel",
      "_view_count": null,
      "_view_module": "@jupyter-widgets/controls",
      "_view_module_version": "1.5.0",
      "_view_name": "HBoxView",
      "box_style": "",
      "children": [
       "IPY_MODEL_2a65047f6f1546f5bf43adcced27d86e",
       "IPY_MODEL_87b4c4bd3b5641d7a3b3f9b5f9da960e",
       "IPY_MODEL_88d768f7ce5949e29632a148263f634f"
      ],
      "layout": "IPY_MODEL_ec3825fe97e74f0d9113e02209798cbe"
     }
    },
    "0eb04bdad5414455b7147567c0262123": {
     "model_module": "@jupyter-widgets/base",
     "model_module_version": "1.2.0",
     "model_name": "LayoutModel",
     "state": {
      "_model_module": "@jupyter-widgets/base",
      "_model_module_version": "1.2.0",
      "_model_name": "LayoutModel",
      "_view_count": null,
      "_view_module": "@jupyter-widgets/base",
      "_view_module_version": "1.2.0",
      "_view_name": "LayoutView",
      "align_content": null,
      "align_items": null,
      "align_self": null,
      "border": null,
      "bottom": null,
      "display": null,
      "flex": null,
      "flex_flow": null,
      "grid_area": null,
      "grid_auto_columns": null,
      "grid_auto_flow": null,
      "grid_auto_rows": null,
      "grid_column": null,
      "grid_gap": null,
      "grid_row": null,
      "grid_template_areas": null,
      "grid_template_columns": null,
      "grid_template_rows": null,
      "height": null,
      "justify_content": null,
      "justify_items": null,
      "left": null,
      "margin": null,
      "max_height": null,
      "max_width": null,
      "min_height": null,
      "min_width": null,
      "object_fit": null,
      "object_position": null,
      "order": null,
      "overflow": null,
      "overflow_x": null,
      "overflow_y": null,
      "padding": null,
      "right": null,
      "top": null,
      "visibility": null,
      "width": null
     }
    },
    "1565f2c65547490abca50f56f14e6edc": {
     "model_module": "@jupyter-widgets/base",
     "model_module_version": "1.2.0",
     "model_name": "LayoutModel",
     "state": {
      "_model_module": "@jupyter-widgets/base",
      "_model_module_version": "1.2.0",
      "_model_name": "LayoutModel",
      "_view_count": null,
      "_view_module": "@jupyter-widgets/base",
      "_view_module_version": "1.2.0",
      "_view_name": "LayoutView",
      "align_content": null,
      "align_items": null,
      "align_self": null,
      "border": null,
      "bottom": null,
      "display": null,
      "flex": null,
      "flex_flow": null,
      "grid_area": null,
      "grid_auto_columns": null,
      "grid_auto_flow": null,
      "grid_auto_rows": null,
      "grid_column": null,
      "grid_gap": null,
      "grid_row": null,
      "grid_template_areas": null,
      "grid_template_columns": null,
      "grid_template_rows": null,
      "height": null,
      "justify_content": null,
      "justify_items": null,
      "left": null,
      "margin": null,
      "max_height": null,
      "max_width": null,
      "min_height": null,
      "min_width": null,
      "object_fit": null,
      "object_position": null,
      "order": null,
      "overflow": null,
      "overflow_x": null,
      "overflow_y": null,
      "padding": null,
      "right": null,
      "top": null,
      "visibility": null,
      "width": null
     }
    },
    "1800fdb484c6455dad203f99f9190901": {
     "model_module": "@jupyter-widgets/controls",
     "model_module_version": "1.5.0",
     "model_name": "FloatProgressModel",
     "state": {
      "_dom_classes": [],
      "_model_module": "@jupyter-widgets/controls",
      "_model_module_version": "1.5.0",
      "_model_name": "FloatProgressModel",
      "_view_count": null,
      "_view_module": "@jupyter-widgets/controls",
      "_view_module_version": "1.5.0",
      "_view_name": "ProgressView",
      "bar_style": "success",
      "description": "",
      "description_tooltip": null,
      "layout": "IPY_MODEL_95a5ccffce764695a0908e9bb0f31f46",
      "max": 1,
      "min": 0,
      "orientation": "horizontal",
      "style": "IPY_MODEL_9beeea5332734c5b9e7017f8a6832487",
      "value": 1
     }
    },
    "1b7818568b7045298750bc920c1cdbfb": {
     "model_module": "@jupyter-widgets/controls",
     "model_module_version": "1.5.0",
     "model_name": "HTMLModel",
     "state": {
      "_dom_classes": [],
      "_model_module": "@jupyter-widgets/controls",
      "_model_module_version": "1.5.0",
      "_model_name": "HTMLModel",
      "_view_count": null,
      "_view_module": "@jupyter-widgets/controls",
      "_view_module_version": "1.5.0",
      "_view_name": "HTMLView",
      "description": "",
      "description_tooltip": null,
      "layout": "IPY_MODEL_8e1d9423f8374828836dfcd0b7389b51",
      "placeholder": "​",
      "style": "IPY_MODEL_cd256346985f4f59a3419ab7c209d05e",
      "value": "100%"
     }
    },
    "2a65047f6f1546f5bf43adcced27d86e": {
     "model_module": "@jupyter-widgets/controls",
     "model_module_version": "1.5.0",
     "model_name": "HTMLModel",
     "state": {
      "_dom_classes": [],
      "_model_module": "@jupyter-widgets/controls",
      "_model_module_version": "1.5.0",
      "_model_name": "HTMLModel",
      "_view_count": null,
      "_view_module": "@jupyter-widgets/controls",
      "_view_module_version": "1.5.0",
      "_view_name": "HTMLView",
      "description": "",
      "description_tooltip": null,
      "layout": "IPY_MODEL_1565f2c65547490abca50f56f14e6edc",
      "placeholder": "​",
      "style": "IPY_MODEL_fc15e5d819e94f56a8443dff53e99052",
      "value": ""
     }
    },
    "2f6be2fdfb204854859b854780354d4f": {
     "model_module": "@jupyter-widgets/base",
     "model_module_version": "1.2.0",
     "model_name": "LayoutModel",
     "state": {
      "_model_module": "@jupyter-widgets/base",
      "_model_module_version": "1.2.0",
      "_model_name": "LayoutModel",
      "_view_count": null,
      "_view_module": "@jupyter-widgets/base",
      "_view_module_version": "1.2.0",
      "_view_name": "LayoutView",
      "align_content": null,
      "align_items": null,
      "align_self": null,
      "border": null,
      "bottom": null,
      "display": null,
      "flex": null,
      "flex_flow": null,
      "grid_area": null,
      "grid_auto_columns": null,
      "grid_auto_flow": null,
      "grid_auto_rows": null,
      "grid_column": null,
      "grid_gap": null,
      "grid_row": null,
      "grid_template_areas": null,
      "grid_template_columns": null,
      "grid_template_rows": null,
      "height": null,
      "justify_content": null,
      "justify_items": null,
      "left": null,
      "margin": null,
      "max_height": null,
      "max_width": null,
      "min_height": null,
      "min_width": null,
      "object_fit": null,
      "object_position": null,
      "order": null,
      "overflow": null,
      "overflow_x": null,
      "overflow_y": null,
      "padding": null,
      "right": null,
      "top": null,
      "visibility": null,
      "width": null
     }
    },
    "30d90c79209c48ed8c44545ff8c40c3c": {
     "model_module": "@jupyter-widgets/base",
     "model_module_version": "1.2.0",
     "model_name": "LayoutModel",
     "state": {
      "_model_module": "@jupyter-widgets/base",
      "_model_module_version": "1.2.0",
      "_model_name": "LayoutModel",
      "_view_count": null,
      "_view_module": "@jupyter-widgets/base",
      "_view_module_version": "1.2.0",
      "_view_name": "LayoutView",
      "align_content": null,
      "align_items": null,
      "align_self": null,
      "border": null,
      "bottom": null,
      "display": null,
      "flex": null,
      "flex_flow": null,
      "grid_area": null,
      "grid_auto_columns": null,
      "grid_auto_flow": null,
      "grid_auto_rows": null,
      "grid_column": null,
      "grid_gap": null,
      "grid_row": null,
      "grid_template_areas": null,
      "grid_template_columns": null,
      "grid_template_rows": null,
      "height": null,
      "justify_content": null,
      "justify_items": null,
      "left": null,
      "margin": null,
      "max_height": null,
      "max_width": null,
      "min_height": null,
      "min_width": null,
      "object_fit": null,
      "object_position": null,
      "order": null,
      "overflow": null,
      "overflow_x": null,
      "overflow_y": null,
      "padding": null,
      "right": null,
      "top": null,
      "visibility": null,
      "width": null
     }
    },
    "4264494e80e04785a87c1f4c24a86696": {
     "model_module": "@jupyter-widgets/controls",
     "model_module_version": "1.5.0",
     "model_name": "HBoxModel",
     "state": {
      "_dom_classes": [],
      "_model_module": "@jupyter-widgets/controls",
      "_model_module_version": "1.5.0",
      "_model_name": "HBoxModel",
      "_view_count": null,
      "_view_module": "@jupyter-widgets/controls",
      "_view_module_version": "1.5.0",
      "_view_name": "HBoxView",
      "box_style": "",
      "children": [
       "IPY_MODEL_bfeb9eefc89847ffac445f5ef24deb24",
       "IPY_MODEL_d03b6708c4494927b2ca09948657fbf3",
       "IPY_MODEL_f672ed3eb9f94315a113a032373cfb5d"
      ],
      "layout": "IPY_MODEL_ee67e9e77b7649b9b44f214bfde9cb5f"
     }
    },
    "542fd8711e034aa98df4515ced2a1bef": {
     "model_module": "@jupyter-widgets/controls",
     "model_module_version": "1.5.0",
     "model_name": "FloatProgressModel",
     "state": {
      "_dom_classes": [],
      "_model_module": "@jupyter-widgets/controls",
      "_model_module_version": "1.5.0",
      "_model_name": "FloatProgressModel",
      "_view_count": null,
      "_view_module": "@jupyter-widgets/controls",
      "_view_module_version": "1.5.0",
      "_view_name": "ProgressView",
      "bar_style": "success",
      "description": "",
      "description_tooltip": null,
      "layout": "IPY_MODEL_85b0d7f576fd4ede930a239c7f6f474f",
      "max": 117,
      "min": 0,
      "orientation": "horizontal",
      "style": "IPY_MODEL_6bff295ca9f04d479bce75f63828bdf8",
      "value": 117
     }
    },
    "5683ddeeb69b4d279ff3aff6ff6c216b": {
     "model_module": "@jupyter-widgets/controls",
     "model_module_version": "1.5.0",
     "model_name": "HTMLModel",
     "state": {
      "_dom_classes": [],
      "_model_module": "@jupyter-widgets/controls",
      "_model_module_version": "1.5.0",
      "_model_name": "HTMLModel",
      "_view_count": null,
      "_view_module": "@jupyter-widgets/controls",
      "_view_module_version": "1.5.0",
      "_view_name": "HTMLView",
      "description": "",
      "description_tooltip": null,
      "layout": "IPY_MODEL_f4818da10cf545d5bce5e366ff2e4356",
      "placeholder": "​",
      "style": "IPY_MODEL_739c62a16ec8417d9214fc968f0d9131",
      "value": ""
     }
    },
    "6ab1e89b4c0448a78fc8f7bba97763dd": {
     "model_module": "@jupyter-widgets/controls",
     "model_module_version": "1.5.0",
     "model_name": "HBoxModel",
     "state": {
      "_dom_classes": [],
      "_model_module": "@jupyter-widgets/controls",
      "_model_module_version": "1.5.0",
      "_model_name": "HBoxModel",
      "_view_count": null,
      "_view_module": "@jupyter-widgets/controls",
      "_view_module_version": "1.5.0",
      "_view_name": "HBoxView",
      "box_style": "",
      "children": [
       "IPY_MODEL_d4f65e21aa5b4b9c876ac362dfa7d8c6",
       "IPY_MODEL_c31514e5064749d3860c1c185dd4b23e",
       "IPY_MODEL_b5840fe6c7564719a788eb772b26700d"
      ],
      "layout": "IPY_MODEL_0eb04bdad5414455b7147567c0262123"
     }
    },
    "6bff295ca9f04d479bce75f63828bdf8": {
     "model_module": "@jupyter-widgets/controls",
     "model_module_version": "1.5.0",
     "model_name": "ProgressStyleModel",
     "state": {
      "_model_module": "@jupyter-widgets/controls",
      "_model_module_version": "1.5.0",
      "_model_name": "ProgressStyleModel",
      "_view_count": null,
      "_view_module": "@jupyter-widgets/base",
      "_view_module_version": "1.2.0",
      "_view_name": "StyleView",
      "bar_color": null,
      "description_width": ""
     }
    },
    "726630e22d764ddaba7cb14d21d76d06": {
     "model_module": "@jupyter-widgets/controls",
     "model_module_version": "1.5.0",
     "model_name": "DescriptionStyleModel",
     "state": {
      "_model_module": "@jupyter-widgets/controls",
      "_model_module_version": "1.5.0",
      "_model_name": "DescriptionStyleModel",
      "_view_count": null,
      "_view_module": "@jupyter-widgets/base",
      "_view_module_version": "1.2.0",
      "_view_name": "StyleView",
      "description_width": ""
     }
    },
    "739c62a16ec8417d9214fc968f0d9131": {
     "model_module": "@jupyter-widgets/controls",
     "model_module_version": "1.5.0",
     "model_name": "DescriptionStyleModel",
     "state": {
      "_model_module": "@jupyter-widgets/controls",
      "_model_module_version": "1.5.0",
      "_model_name": "DescriptionStyleModel",
      "_view_count": null,
      "_view_module": "@jupyter-widgets/base",
      "_view_module_version": "1.2.0",
      "_view_name": "StyleView",
      "description_width": ""
     }
    },
    "7af5081ae6db4f5bb4dc430a7e2da624": {
     "model_module": "@jupyter-widgets/base",
     "model_module_version": "1.2.0",
     "model_name": "LayoutModel",
     "state": {
      "_model_module": "@jupyter-widgets/base",
      "_model_module_version": "1.2.0",
      "_model_name": "LayoutModel",
      "_view_count": null,
      "_view_module": "@jupyter-widgets/base",
      "_view_module_version": "1.2.0",
      "_view_name": "LayoutView",
      "align_content": null,
      "align_items": null,
      "align_self": null,
      "border": null,
      "bottom": null,
      "display": null,
      "flex": null,
      "flex_flow": null,
      "grid_area": null,
      "grid_auto_columns": null,
      "grid_auto_flow": null,
      "grid_auto_rows": null,
      "grid_column": null,
      "grid_gap": null,
      "grid_row": null,
      "grid_template_areas": null,
      "grid_template_columns": null,
      "grid_template_rows": null,
      "height": null,
      "justify_content": null,
      "justify_items": null,
      "left": null,
      "margin": null,
      "max_height": null,
      "max_width": null,
      "min_height": null,
      "min_width": null,
      "object_fit": null,
      "object_position": null,
      "order": null,
      "overflow": null,
      "overflow_x": null,
      "overflow_y": null,
      "padding": null,
      "right": null,
      "top": null,
      "visibility": null,
      "width": null
     }
    },
    "82d7c973750446d392d7ce3adb7599e0": {
     "model_module": "@jupyter-widgets/base",
     "model_module_version": "1.2.0",
     "model_name": "LayoutModel",
     "state": {
      "_model_module": "@jupyter-widgets/base",
      "_model_module_version": "1.2.0",
      "_model_name": "LayoutModel",
      "_view_count": null,
      "_view_module": "@jupyter-widgets/base",
      "_view_module_version": "1.2.0",
      "_view_name": "LayoutView",
      "align_content": null,
      "align_items": null,
      "align_self": null,
      "border": null,
      "bottom": null,
      "display": null,
      "flex": null,
      "flex_flow": null,
      "grid_area": null,
      "grid_auto_columns": null,
      "grid_auto_flow": null,
      "grid_auto_rows": null,
      "grid_column": null,
      "grid_gap": null,
      "grid_row": null,
      "grid_template_areas": null,
      "grid_template_columns": null,
      "grid_template_rows": null,
      "height": null,
      "justify_content": null,
      "justify_items": null,
      "left": null,
      "margin": null,
      "max_height": null,
      "max_width": null,
      "min_height": null,
      "min_width": null,
      "object_fit": null,
      "object_position": null,
      "order": null,
      "overflow": null,
      "overflow_x": null,
      "overflow_y": null,
      "padding": null,
      "right": null,
      "top": null,
      "visibility": null,
      "width": null
     }
    },
    "84371c6020114b4b8e82defc938a618e": {
     "model_module": "@jupyter-widgets/controls",
     "model_module_version": "1.5.0",
     "model_name": "DescriptionStyleModel",
     "state": {
      "_model_module": "@jupyter-widgets/controls",
      "_model_module_version": "1.5.0",
      "_model_name": "DescriptionStyleModel",
      "_view_count": null,
      "_view_module": "@jupyter-widgets/base",
      "_view_module_version": "1.2.0",
      "_view_name": "StyleView",
      "description_width": ""
     }
    },
    "85b0d7f576fd4ede930a239c7f6f474f": {
     "model_module": "@jupyter-widgets/base",
     "model_module_version": "1.2.0",
     "model_name": "LayoutModel",
     "state": {
      "_model_module": "@jupyter-widgets/base",
      "_model_module_version": "1.2.0",
      "_model_name": "LayoutModel",
      "_view_count": null,
      "_view_module": "@jupyter-widgets/base",
      "_view_module_version": "1.2.0",
      "_view_name": "LayoutView",
      "align_content": null,
      "align_items": null,
      "align_self": null,
      "border": null,
      "bottom": null,
      "display": null,
      "flex": null,
      "flex_flow": null,
      "grid_area": null,
      "grid_auto_columns": null,
      "grid_auto_flow": null,
      "grid_auto_rows": null,
      "grid_column": null,
      "grid_gap": null,
      "grid_row": null,
      "grid_template_areas": null,
      "grid_template_columns": null,
      "grid_template_rows": null,
      "height": null,
      "justify_content": null,
      "justify_items": null,
      "left": null,
      "margin": null,
      "max_height": null,
      "max_width": null,
      "min_height": null,
      "min_width": null,
      "object_fit": null,
      "object_position": null,
      "order": null,
      "overflow": null,
      "overflow_x": null,
      "overflow_y": null,
      "padding": null,
      "right": null,
      "top": null,
      "visibility": null,
      "width": null
     }
    },
    "87b4c4bd3b5641d7a3b3f9b5f9da960e": {
     "model_module": "@jupyter-widgets/controls",
     "model_module_version": "1.5.0",
     "model_name": "FloatProgressModel",
     "state": {
      "_dom_classes": [],
      "_model_module": "@jupyter-widgets/controls",
      "_model_module_version": "1.5.0",
      "_model_name": "FloatProgressModel",
      "_view_count": null,
      "_view_module": "@jupyter-widgets/controls",
      "_view_module_version": "1.5.0",
      "_view_name": "ProgressView",
      "bar_style": "success",
      "description": "",
      "description_tooltip": null,
      "layout": "IPY_MODEL_bd0231baa4ae43a0a97432e3332adfb0",
      "max": 1,
      "min": 0,
      "orientation": "horizontal",
      "style": "IPY_MODEL_c7a07bb39d6b4e169c256af9d5872a4c",
      "value": 1
     }
    },
    "8829d1431ee14560b7a5652617992c20": {
     "model_module": "@jupyter-widgets/controls",
     "model_module_version": "1.5.0",
     "model_name": "DescriptionStyleModel",
     "state": {
      "_model_module": "@jupyter-widgets/controls",
      "_model_module_version": "1.5.0",
      "_model_name": "DescriptionStyleModel",
      "_view_count": null,
      "_view_module": "@jupyter-widgets/base",
      "_view_module_version": "1.2.0",
      "_view_name": "StyleView",
      "description_width": ""
     }
    },
    "88588f9958d641c5a8789449b54c19f7": {
     "model_module": "@jupyter-widgets/controls",
     "model_module_version": "1.5.0",
     "model_name": "DescriptionStyleModel",
     "state": {
      "_model_module": "@jupyter-widgets/controls",
      "_model_module_version": "1.5.0",
      "_model_name": "DescriptionStyleModel",
      "_view_count": null,
      "_view_module": "@jupyter-widgets/base",
      "_view_module_version": "1.2.0",
      "_view_name": "StyleView",
      "description_width": ""
     }
    },
    "88d768f7ce5949e29632a148263f634f": {
     "model_module": "@jupyter-widgets/controls",
     "model_module_version": "1.5.0",
     "model_name": "HTMLModel",
     "state": {
      "_dom_classes": [],
      "_model_module": "@jupyter-widgets/controls",
      "_model_module_version": "1.5.0",
      "_model_name": "HTMLModel",
      "_view_count": null,
      "_view_module": "@jupyter-widgets/controls",
      "_view_module_version": "1.5.0",
      "_view_name": "HTMLView",
      "description": "",
      "description_tooltip": null,
      "layout": "IPY_MODEL_bb21e6efb63540d9936961b6d0f93d90",
      "placeholder": "​",
      "style": "IPY_MODEL_84371c6020114b4b8e82defc938a618e",
      "value": " 117/? [00:00&lt;00:00, 4573.47it/s]"
     }
    },
    "8b7b6e8b7765494eb158d290736a8a75": {
     "model_module": "@jupyter-widgets/base",
     "model_module_version": "1.2.0",
     "model_name": "LayoutModel",
     "state": {
      "_model_module": "@jupyter-widgets/base",
      "_model_module_version": "1.2.0",
      "_model_name": "LayoutModel",
      "_view_count": null,
      "_view_module": "@jupyter-widgets/base",
      "_view_module_version": "1.2.0",
      "_view_name": "LayoutView",
      "align_content": null,
      "align_items": null,
      "align_self": null,
      "border": null,
      "bottom": null,
      "display": null,
      "flex": null,
      "flex_flow": null,
      "grid_area": null,
      "grid_auto_columns": null,
      "grid_auto_flow": null,
      "grid_auto_rows": null,
      "grid_column": null,
      "grid_gap": null,
      "grid_row": null,
      "grid_template_areas": null,
      "grid_template_columns": null,
      "grid_template_rows": null,
      "height": null,
      "justify_content": null,
      "justify_items": null,
      "left": null,
      "margin": null,
      "max_height": null,
      "max_width": null,
      "min_height": null,
      "min_width": null,
      "object_fit": null,
      "object_position": null,
      "order": null,
      "overflow": null,
      "overflow_x": null,
      "overflow_y": null,
      "padding": null,
      "right": null,
      "top": null,
      "visibility": null,
      "width": null
     }
    },
    "8e1d9423f8374828836dfcd0b7389b51": {
     "model_module": "@jupyter-widgets/base",
     "model_module_version": "1.2.0",
     "model_name": "LayoutModel",
     "state": {
      "_model_module": "@jupyter-widgets/base",
      "_model_module_version": "1.2.0",
      "_model_name": "LayoutModel",
      "_view_count": null,
      "_view_module": "@jupyter-widgets/base",
      "_view_module_version": "1.2.0",
      "_view_name": "LayoutView",
      "align_content": null,
      "align_items": null,
      "align_self": null,
      "border": null,
      "bottom": null,
      "display": null,
      "flex": null,
      "flex_flow": null,
      "grid_area": null,
      "grid_auto_columns": null,
      "grid_auto_flow": null,
      "grid_auto_rows": null,
      "grid_column": null,
      "grid_gap": null,
      "grid_row": null,
      "grid_template_areas": null,
      "grid_template_columns": null,
      "grid_template_rows": null,
      "height": null,
      "justify_content": null,
      "justify_items": null,
      "left": null,
      "margin": null,
      "max_height": null,
      "max_width": null,
      "min_height": null,
      "min_width": null,
      "object_fit": null,
      "object_position": null,
      "order": null,
      "overflow": null,
      "overflow_x": null,
      "overflow_y": null,
      "padding": null,
      "right": null,
      "top": null,
      "visibility": null,
      "width": null
     }
    },
    "8f5daaef11734582a95ed8822b435ee6": {
     "model_module": "@jupyter-widgets/controls",
     "model_module_version": "1.5.0",
     "model_name": "HBoxModel",
     "state": {
      "_dom_classes": [],
      "_model_module": "@jupyter-widgets/controls",
      "_model_module_version": "1.5.0",
      "_model_name": "HBoxModel",
      "_view_count": null,
      "_view_module": "@jupyter-widgets/controls",
      "_view_module_version": "1.5.0",
      "_view_name": "HBoxView",
      "box_style": "",
      "children": [
       "IPY_MODEL_1b7818568b7045298750bc920c1cdbfb",
       "IPY_MODEL_542fd8711e034aa98df4515ced2a1bef",
       "IPY_MODEL_062f6d9003d04f8b91fe32f9a78b901f"
      ],
      "layout": "IPY_MODEL_7af5081ae6db4f5bb4dc430a7e2da624"
     }
    },
    "95a5ccffce764695a0908e9bb0f31f46": {
     "model_module": "@jupyter-widgets/base",
     "model_module_version": "1.2.0",
     "model_name": "LayoutModel",
     "state": {
      "_model_module": "@jupyter-widgets/base",
      "_model_module_version": "1.2.0",
      "_model_name": "LayoutModel",
      "_view_count": null,
      "_view_module": "@jupyter-widgets/base",
      "_view_module_version": "1.2.0",
      "_view_name": "LayoutView",
      "align_content": null,
      "align_items": null,
      "align_self": null,
      "border": null,
      "bottom": null,
      "display": null,
      "flex": null,
      "flex_flow": null,
      "grid_area": null,
      "grid_auto_columns": null,
      "grid_auto_flow": null,
      "grid_auto_rows": null,
      "grid_column": null,
      "grid_gap": null,
      "grid_row": null,
      "grid_template_areas": null,
      "grid_template_columns": null,
      "grid_template_rows": null,
      "height": null,
      "justify_content": null,
      "justify_items": null,
      "left": null,
      "margin": null,
      "max_height": null,
      "max_width": null,
      "min_height": null,
      "min_width": null,
      "object_fit": null,
      "object_position": null,
      "order": null,
      "overflow": null,
      "overflow_x": null,
      "overflow_y": null,
      "padding": null,
      "right": null,
      "top": null,
      "visibility": null,
      "width": "20px"
     }
    },
    "990c1a2b98454af8b38ab64a8dcb1d21": {
     "model_module": "@jupyter-widgets/base",
     "model_module_version": "1.2.0",
     "model_name": "LayoutModel",
     "state": {
      "_model_module": "@jupyter-widgets/base",
      "_model_module_version": "1.2.0",
      "_model_name": "LayoutModel",
      "_view_count": null,
      "_view_module": "@jupyter-widgets/base",
      "_view_module_version": "1.2.0",
      "_view_name": "LayoutView",
      "align_content": null,
      "align_items": null,
      "align_self": null,
      "border": null,
      "bottom": null,
      "display": null,
      "flex": null,
      "flex_flow": null,
      "grid_area": null,
      "grid_auto_columns": null,
      "grid_auto_flow": null,
      "grid_auto_rows": null,
      "grid_column": null,
      "grid_gap": null,
      "grid_row": null,
      "grid_template_areas": null,
      "grid_template_columns": null,
      "grid_template_rows": null,
      "height": null,
      "justify_content": null,
      "justify_items": null,
      "left": null,
      "margin": null,
      "max_height": null,
      "max_width": null,
      "min_height": null,
      "min_width": null,
      "object_fit": null,
      "object_position": null,
      "order": null,
      "overflow": null,
      "overflow_x": null,
      "overflow_y": null,
      "padding": null,
      "right": null,
      "top": null,
      "visibility": null,
      "width": null
     }
    },
    "9beeea5332734c5b9e7017f8a6832487": {
     "model_module": "@jupyter-widgets/controls",
     "model_module_version": "1.5.0",
     "model_name": "ProgressStyleModel",
     "state": {
      "_model_module": "@jupyter-widgets/controls",
      "_model_module_version": "1.5.0",
      "_model_name": "ProgressStyleModel",
      "_view_count": null,
      "_view_module": "@jupyter-widgets/base",
      "_view_module_version": "1.2.0",
      "_view_name": "StyleView",
      "bar_color": null,
      "description_width": ""
     }
    },
    "a3512f6c306e4ff585ba68ef17c93171": {
     "model_module": "@jupyter-widgets/controls",
     "model_module_version": "1.5.0",
     "model_name": "DescriptionStyleModel",
     "state": {
      "_model_module": "@jupyter-widgets/controls",
      "_model_module_version": "1.5.0",
      "_model_name": "DescriptionStyleModel",
      "_view_count": null,
      "_view_module": "@jupyter-widgets/base",
      "_view_module_version": "1.2.0",
      "_view_name": "StyleView",
      "description_width": ""
     }
    },
    "b5840fe6c7564719a788eb772b26700d": {
     "model_module": "@jupyter-widgets/controls",
     "model_module_version": "1.5.0",
     "model_name": "HTMLModel",
     "state": {
      "_dom_classes": [],
      "_model_module": "@jupyter-widgets/controls",
      "_model_module_version": "1.5.0",
      "_model_name": "HTMLModel",
      "_view_count": null,
      "_view_module": "@jupyter-widgets/controls",
      "_view_module_version": "1.5.0",
      "_view_name": "HTMLView",
      "description": "",
      "description_tooltip": null,
      "layout": "IPY_MODEL_ebe8e05da2e74f6db995561ac92198df",
      "placeholder": "​",
      "style": "IPY_MODEL_726630e22d764ddaba7cb14d21d76d06",
      "value": " 50/50 [00:00&lt;00:00, 2135.33it/s]"
     }
    },
    "b5fa78f1b3e8421e87f52e9092511444": {
     "model_module": "@jupyter-widgets/controls",
     "model_module_version": "1.5.0",
     "model_name": "ProgressStyleModel",
     "state": {
      "_model_module": "@jupyter-widgets/controls",
      "_model_module_version": "1.5.0",
      "_model_name": "ProgressStyleModel",
      "_view_count": null,
      "_view_module": "@jupyter-widgets/base",
      "_view_module_version": "1.2.0",
      "_view_name": "StyleView",
      "bar_color": null,
      "description_width": ""
     }
    },
    "ba826aaeec9a4ee09d8bf704dc504c4f": {
     "model_module": "@jupyter-widgets/base",
     "model_module_version": "1.2.0",
     "model_name": "LayoutModel",
     "state": {
      "_model_module": "@jupyter-widgets/base",
      "_model_module_version": "1.2.0",
      "_model_name": "LayoutModel",
      "_view_count": null,
      "_view_module": "@jupyter-widgets/base",
      "_view_module_version": "1.2.0",
      "_view_name": "LayoutView",
      "align_content": null,
      "align_items": null,
      "align_self": null,
      "border": null,
      "bottom": null,
      "display": null,
      "flex": null,
      "flex_flow": null,
      "grid_area": null,
      "grid_auto_columns": null,
      "grid_auto_flow": null,
      "grid_auto_rows": null,
      "grid_column": null,
      "grid_gap": null,
      "grid_row": null,
      "grid_template_areas": null,
      "grid_template_columns": null,
      "grid_template_rows": null,
      "height": null,
      "justify_content": null,
      "justify_items": null,
      "left": null,
      "margin": null,
      "max_height": null,
      "max_width": null,
      "min_height": null,
      "min_width": null,
      "object_fit": null,
      "object_position": null,
      "order": null,
      "overflow": null,
      "overflow_x": null,
      "overflow_y": null,
      "padding": null,
      "right": null,
      "top": null,
      "visibility": null,
      "width": null
     }
    },
    "bb21e6efb63540d9936961b6d0f93d90": {
     "model_module": "@jupyter-widgets/base",
     "model_module_version": "1.2.0",
     "model_name": "LayoutModel",
     "state": {
      "_model_module": "@jupyter-widgets/base",
      "_model_module_version": "1.2.0",
      "_model_name": "LayoutModel",
      "_view_count": null,
      "_view_module": "@jupyter-widgets/base",
      "_view_module_version": "1.2.0",
      "_view_name": "LayoutView",
      "align_content": null,
      "align_items": null,
      "align_self": null,
      "border": null,
      "bottom": null,
      "display": null,
      "flex": null,
      "flex_flow": null,
      "grid_area": null,
      "grid_auto_columns": null,
      "grid_auto_flow": null,
      "grid_auto_rows": null,
      "grid_column": null,
      "grid_gap": null,
      "grid_row": null,
      "grid_template_areas": null,
      "grid_template_columns": null,
      "grid_template_rows": null,
      "height": null,
      "justify_content": null,
      "justify_items": null,
      "left": null,
      "margin": null,
      "max_height": null,
      "max_width": null,
      "min_height": null,
      "min_width": null,
      "object_fit": null,
      "object_position": null,
      "order": null,
      "overflow": null,
      "overflow_x": null,
      "overflow_y": null,
      "padding": null,
      "right": null,
      "top": null,
      "visibility": null,
      "width": null
     }
    },
    "bd0231baa4ae43a0a97432e3332adfb0": {
     "model_module": "@jupyter-widgets/base",
     "model_module_version": "1.2.0",
     "model_name": "LayoutModel",
     "state": {
      "_model_module": "@jupyter-widgets/base",
      "_model_module_version": "1.2.0",
      "_model_name": "LayoutModel",
      "_view_count": null,
      "_view_module": "@jupyter-widgets/base",
      "_view_module_version": "1.2.0",
      "_view_name": "LayoutView",
      "align_content": null,
      "align_items": null,
      "align_self": null,
      "border": null,
      "bottom": null,
      "display": null,
      "flex": null,
      "flex_flow": null,
      "grid_area": null,
      "grid_auto_columns": null,
      "grid_auto_flow": null,
      "grid_auto_rows": null,
      "grid_column": null,
      "grid_gap": null,
      "grid_row": null,
      "grid_template_areas": null,
      "grid_template_columns": null,
      "grid_template_rows": null,
      "height": null,
      "justify_content": null,
      "justify_items": null,
      "left": null,
      "margin": null,
      "max_height": null,
      "max_width": null,
      "min_height": null,
      "min_width": null,
      "object_fit": null,
      "object_position": null,
      "order": null,
      "overflow": null,
      "overflow_x": null,
      "overflow_y": null,
      "padding": null,
      "right": null,
      "top": null,
      "visibility": null,
      "width": "20px"
     }
    },
    "bfeb9eefc89847ffac445f5ef24deb24": {
     "model_module": "@jupyter-widgets/controls",
     "model_module_version": "1.5.0",
     "model_name": "HTMLModel",
     "state": {
      "_dom_classes": [],
      "_model_module": "@jupyter-widgets/controls",
      "_model_module_version": "1.5.0",
      "_model_name": "HTMLModel",
      "_view_count": null,
      "_view_module": "@jupyter-widgets/controls",
      "_view_module_version": "1.5.0",
      "_view_name": "HTMLView",
      "description": "",
      "description_tooltip": null,
      "layout": "IPY_MODEL_30d90c79209c48ed8c44545ff8c40c3c",
      "placeholder": "​",
      "style": "IPY_MODEL_a3512f6c306e4ff585ba68ef17c93171",
      "value": "100%"
     }
    },
    "c31514e5064749d3860c1c185dd4b23e": {
     "model_module": "@jupyter-widgets/controls",
     "model_module_version": "1.5.0",
     "model_name": "FloatProgressModel",
     "state": {
      "_dom_classes": [],
      "_model_module": "@jupyter-widgets/controls",
      "_model_module_version": "1.5.0",
      "_model_name": "FloatProgressModel",
      "_view_count": null,
      "_view_module": "@jupyter-widgets/controls",
      "_view_module_version": "1.5.0",
      "_view_name": "ProgressView",
      "bar_style": "success",
      "description": "",
      "description_tooltip": null,
      "layout": "IPY_MODEL_2f6be2fdfb204854859b854780354d4f",
      "max": 50,
      "min": 0,
      "orientation": "horizontal",
      "style": "IPY_MODEL_b5fa78f1b3e8421e87f52e9092511444",
      "value": 50
     }
    },
    "c4ea8f28dee2458fa408a491bd7175fc": {
     "model_module": "@jupyter-widgets/controls",
     "model_module_version": "1.5.0",
     "model_name": "HBoxModel",
     "state": {
      "_dom_classes": [],
      "_model_module": "@jupyter-widgets/controls",
      "_model_module_version": "1.5.0",
      "_model_name": "HBoxModel",
      "_view_count": null,
      "_view_module": "@jupyter-widgets/controls",
      "_view_module_version": "1.5.0",
      "_view_name": "HBoxView",
      "box_style": "",
      "children": [
       "IPY_MODEL_5683ddeeb69b4d279ff3aff6ff6c216b",
       "IPY_MODEL_1800fdb484c6455dad203f99f9190901",
       "IPY_MODEL_d09440bc37ac48a6b7fbe40b80217015"
      ],
      "layout": "IPY_MODEL_cfda11eeba004a9580b46689120e00cd"
     }
    },
    "c7a07bb39d6b4e169c256af9d5872a4c": {
     "model_module": "@jupyter-widgets/controls",
     "model_module_version": "1.5.0",
     "model_name": "ProgressStyleModel",
     "state": {
      "_model_module": "@jupyter-widgets/controls",
      "_model_module_version": "1.5.0",
      "_model_name": "ProgressStyleModel",
      "_view_count": null,
      "_view_module": "@jupyter-widgets/base",
      "_view_module_version": "1.2.0",
      "_view_name": "StyleView",
      "bar_color": null,
      "description_width": ""
     }
    },
    "cd256346985f4f59a3419ab7c209d05e": {
     "model_module": "@jupyter-widgets/controls",
     "model_module_version": "1.5.0",
     "model_name": "DescriptionStyleModel",
     "state": {
      "_model_module": "@jupyter-widgets/controls",
      "_model_module_version": "1.5.0",
      "_model_name": "DescriptionStyleModel",
      "_view_count": null,
      "_view_module": "@jupyter-widgets/base",
      "_view_module_version": "1.2.0",
      "_view_name": "StyleView",
      "description_width": ""
     }
    },
    "cd896cd1c7084b3aa57fd4b3293bb871": {
     "model_module": "@jupyter-widgets/controls",
     "model_module_version": "1.5.0",
     "model_name": "ProgressStyleModel",
     "state": {
      "_model_module": "@jupyter-widgets/controls",
      "_model_module_version": "1.5.0",
      "_model_name": "ProgressStyleModel",
      "_view_count": null,
      "_view_module": "@jupyter-widgets/base",
      "_view_module_version": "1.2.0",
      "_view_name": "StyleView",
      "bar_color": null,
      "description_width": ""
     }
    },
    "cfda11eeba004a9580b46689120e00cd": {
     "model_module": "@jupyter-widgets/base",
     "model_module_version": "1.2.0",
     "model_name": "LayoutModel",
     "state": {
      "_model_module": "@jupyter-widgets/base",
      "_model_module_version": "1.2.0",
      "_model_name": "LayoutModel",
      "_view_count": null,
      "_view_module": "@jupyter-widgets/base",
      "_view_module_version": "1.2.0",
      "_view_name": "LayoutView",
      "align_content": null,
      "align_items": null,
      "align_self": null,
      "border": null,
      "bottom": null,
      "display": null,
      "flex": null,
      "flex_flow": null,
      "grid_area": null,
      "grid_auto_columns": null,
      "grid_auto_flow": null,
      "grid_auto_rows": null,
      "grid_column": null,
      "grid_gap": null,
      "grid_row": null,
      "grid_template_areas": null,
      "grid_template_columns": null,
      "grid_template_rows": null,
      "height": null,
      "justify_content": null,
      "justify_items": null,
      "left": null,
      "margin": null,
      "max_height": null,
      "max_width": null,
      "min_height": null,
      "min_width": null,
      "object_fit": null,
      "object_position": null,
      "order": null,
      "overflow": null,
      "overflow_x": null,
      "overflow_y": null,
      "padding": null,
      "right": null,
      "top": null,
      "visibility": null,
      "width": null
     }
    },
    "d03b6708c4494927b2ca09948657fbf3": {
     "model_module": "@jupyter-widgets/controls",
     "model_module_version": "1.5.0",
     "model_name": "FloatProgressModel",
     "state": {
      "_dom_classes": [],
      "_model_module": "@jupyter-widgets/controls",
      "_model_module_version": "1.5.0",
      "_model_name": "FloatProgressModel",
      "_view_count": null,
      "_view_module": "@jupyter-widgets/controls",
      "_view_module_version": "1.5.0",
      "_view_name": "ProgressView",
      "bar_style": "success",
      "description": "",
      "description_tooltip": null,
      "layout": "IPY_MODEL_82d7c973750446d392d7ce3adb7599e0",
      "max": 50,
      "min": 0,
      "orientation": "horizontal",
      "style": "IPY_MODEL_cd896cd1c7084b3aa57fd4b3293bb871",
      "value": 50
     }
    },
    "d09440bc37ac48a6b7fbe40b80217015": {
     "model_module": "@jupyter-widgets/controls",
     "model_module_version": "1.5.0",
     "model_name": "HTMLModel",
     "state": {
      "_dom_classes": [],
      "_model_module": "@jupyter-widgets/controls",
      "_model_module_version": "1.5.0",
      "_model_name": "HTMLModel",
      "_view_count": null,
      "_view_module": "@jupyter-widgets/controls",
      "_view_module_version": "1.5.0",
      "_view_name": "HTMLView",
      "description": "",
      "description_tooltip": null,
      "layout": "IPY_MODEL_ba826aaeec9a4ee09d8bf704dc504c4f",
      "placeholder": "​",
      "style": "IPY_MODEL_88588f9958d641c5a8789449b54c19f7",
      "value": " 125/? [00:00&lt;00:00, 4372.67it/s]"
     }
    },
    "d4f65e21aa5b4b9c876ac362dfa7d8c6": {
     "model_module": "@jupyter-widgets/controls",
     "model_module_version": "1.5.0",
     "model_name": "HTMLModel",
     "state": {
      "_dom_classes": [],
      "_model_module": "@jupyter-widgets/controls",
      "_model_module_version": "1.5.0",
      "_model_name": "HTMLModel",
      "_view_count": null,
      "_view_module": "@jupyter-widgets/controls",
      "_view_module_version": "1.5.0",
      "_view_name": "HTMLView",
      "description": "",
      "description_tooltip": null,
      "layout": "IPY_MODEL_fb8161f40af0471a839502e409b7bba3",
      "placeholder": "​",
      "style": "IPY_MODEL_df77d5b51b2d4d9097176022c4424e63",
      "value": "100%"
     }
    },
    "df77d5b51b2d4d9097176022c4424e63": {
     "model_module": "@jupyter-widgets/controls",
     "model_module_version": "1.5.0",
     "model_name": "DescriptionStyleModel",
     "state": {
      "_model_module": "@jupyter-widgets/controls",
      "_model_module_version": "1.5.0",
      "_model_name": "DescriptionStyleModel",
      "_view_count": null,
      "_view_module": "@jupyter-widgets/base",
      "_view_module_version": "1.2.0",
      "_view_name": "StyleView",
      "description_width": ""
     }
    },
    "ebe8e05da2e74f6db995561ac92198df": {
     "model_module": "@jupyter-widgets/base",
     "model_module_version": "1.2.0",
     "model_name": "LayoutModel",
     "state": {
      "_model_module": "@jupyter-widgets/base",
      "_model_module_version": "1.2.0",
      "_model_name": "LayoutModel",
      "_view_count": null,
      "_view_module": "@jupyter-widgets/base",
      "_view_module_version": "1.2.0",
      "_view_name": "LayoutView",
      "align_content": null,
      "align_items": null,
      "align_self": null,
      "border": null,
      "bottom": null,
      "display": null,
      "flex": null,
      "flex_flow": null,
      "grid_area": null,
      "grid_auto_columns": null,
      "grid_auto_flow": null,
      "grid_auto_rows": null,
      "grid_column": null,
      "grid_gap": null,
      "grid_row": null,
      "grid_template_areas": null,
      "grid_template_columns": null,
      "grid_template_rows": null,
      "height": null,
      "justify_content": null,
      "justify_items": null,
      "left": null,
      "margin": null,
      "max_height": null,
      "max_width": null,
      "min_height": null,
      "min_width": null,
      "object_fit": null,
      "object_position": null,
      "order": null,
      "overflow": null,
      "overflow_x": null,
      "overflow_y": null,
      "padding": null,
      "right": null,
      "top": null,
      "visibility": null,
      "width": null
     }
    },
    "ec3825fe97e74f0d9113e02209798cbe": {
     "model_module": "@jupyter-widgets/base",
     "model_module_version": "1.2.0",
     "model_name": "LayoutModel",
     "state": {
      "_model_module": "@jupyter-widgets/base",
      "_model_module_version": "1.2.0",
      "_model_name": "LayoutModel",
      "_view_count": null,
      "_view_module": "@jupyter-widgets/base",
      "_view_module_version": "1.2.0",
      "_view_name": "LayoutView",
      "align_content": null,
      "align_items": null,
      "align_self": null,
      "border": null,
      "bottom": null,
      "display": null,
      "flex": null,
      "flex_flow": null,
      "grid_area": null,
      "grid_auto_columns": null,
      "grid_auto_flow": null,
      "grid_auto_rows": null,
      "grid_column": null,
      "grid_gap": null,
      "grid_row": null,
      "grid_template_areas": null,
      "grid_template_columns": null,
      "grid_template_rows": null,
      "height": null,
      "justify_content": null,
      "justify_items": null,
      "left": null,
      "margin": null,
      "max_height": null,
      "max_width": null,
      "min_height": null,
      "min_width": null,
      "object_fit": null,
      "object_position": null,
      "order": null,
      "overflow": null,
      "overflow_x": null,
      "overflow_y": null,
      "padding": null,
      "right": null,
      "top": null,
      "visibility": null,
      "width": null
     }
    },
    "ee67e9e77b7649b9b44f214bfde9cb5f": {
     "model_module": "@jupyter-widgets/base",
     "model_module_version": "1.2.0",
     "model_name": "LayoutModel",
     "state": {
      "_model_module": "@jupyter-widgets/base",
      "_model_module_version": "1.2.0",
      "_model_name": "LayoutModel",
      "_view_count": null,
      "_view_module": "@jupyter-widgets/base",
      "_view_module_version": "1.2.0",
      "_view_name": "LayoutView",
      "align_content": null,
      "align_items": null,
      "align_self": null,
      "border": null,
      "bottom": null,
      "display": null,
      "flex": null,
      "flex_flow": null,
      "grid_area": null,
      "grid_auto_columns": null,
      "grid_auto_flow": null,
      "grid_auto_rows": null,
      "grid_column": null,
      "grid_gap": null,
      "grid_row": null,
      "grid_template_areas": null,
      "grid_template_columns": null,
      "grid_template_rows": null,
      "height": null,
      "justify_content": null,
      "justify_items": null,
      "left": null,
      "margin": null,
      "max_height": null,
      "max_width": null,
      "min_height": null,
      "min_width": null,
      "object_fit": null,
      "object_position": null,
      "order": null,
      "overflow": null,
      "overflow_x": null,
      "overflow_y": null,
      "padding": null,
      "right": null,
      "top": null,
      "visibility": null,
      "width": null
     }
    },
    "f326f4315f4d48789f18f2d13678f8d1": {
     "model_module": "@jupyter-widgets/controls",
     "model_module_version": "1.5.0",
     "model_name": "DescriptionStyleModel",
     "state": {
      "_model_module": "@jupyter-widgets/controls",
      "_model_module_version": "1.5.0",
      "_model_name": "DescriptionStyleModel",
      "_view_count": null,
      "_view_module": "@jupyter-widgets/base",
      "_view_module_version": "1.2.0",
      "_view_name": "StyleView",
      "description_width": ""
     }
    },
    "f4818da10cf545d5bce5e366ff2e4356": {
     "model_module": "@jupyter-widgets/base",
     "model_module_version": "1.2.0",
     "model_name": "LayoutModel",
     "state": {
      "_model_module": "@jupyter-widgets/base",
      "_model_module_version": "1.2.0",
      "_model_name": "LayoutModel",
      "_view_count": null,
      "_view_module": "@jupyter-widgets/base",
      "_view_module_version": "1.2.0",
      "_view_name": "LayoutView",
      "align_content": null,
      "align_items": null,
      "align_self": null,
      "border": null,
      "bottom": null,
      "display": null,
      "flex": null,
      "flex_flow": null,
      "grid_area": null,
      "grid_auto_columns": null,
      "grid_auto_flow": null,
      "grid_auto_rows": null,
      "grid_column": null,
      "grid_gap": null,
      "grid_row": null,
      "grid_template_areas": null,
      "grid_template_columns": null,
      "grid_template_rows": null,
      "height": null,
      "justify_content": null,
      "justify_items": null,
      "left": null,
      "margin": null,
      "max_height": null,
      "max_width": null,
      "min_height": null,
      "min_width": null,
      "object_fit": null,
      "object_position": null,
      "order": null,
      "overflow": null,
      "overflow_x": null,
      "overflow_y": null,
      "padding": null,
      "right": null,
      "top": null,
      "visibility": null,
      "width": null
     }
    },
    "f672ed3eb9f94315a113a032373cfb5d": {
     "model_module": "@jupyter-widgets/controls",
     "model_module_version": "1.5.0",
     "model_name": "HTMLModel",
     "state": {
      "_dom_classes": [],
      "_model_module": "@jupyter-widgets/controls",
      "_model_module_version": "1.5.0",
      "_model_name": "HTMLModel",
      "_view_count": null,
      "_view_module": "@jupyter-widgets/controls",
      "_view_module_version": "1.5.0",
      "_view_name": "HTMLView",
      "description": "",
      "description_tooltip": null,
      "layout": "IPY_MODEL_8b7b6e8b7765494eb158d290736a8a75",
      "placeholder": "​",
      "style": "IPY_MODEL_8829d1431ee14560b7a5652617992c20",
      "value": " 50/50 [00:00&lt;00:00, 1552.28it/s]"
     }
    },
    "fb8161f40af0471a839502e409b7bba3": {
     "model_module": "@jupyter-widgets/base",
     "model_module_version": "1.2.0",
     "model_name": "LayoutModel",
     "state": {
      "_model_module": "@jupyter-widgets/base",
      "_model_module_version": "1.2.0",
      "_model_name": "LayoutModel",
      "_view_count": null,
      "_view_module": "@jupyter-widgets/base",
      "_view_module_version": "1.2.0",
      "_view_name": "LayoutView",
      "align_content": null,
      "align_items": null,
      "align_self": null,
      "border": null,
      "bottom": null,
      "display": null,
      "flex": null,
      "flex_flow": null,
      "grid_area": null,
      "grid_auto_columns": null,
      "grid_auto_flow": null,
      "grid_auto_rows": null,
      "grid_column": null,
      "grid_gap": null,
      "grid_row": null,
      "grid_template_areas": null,
      "grid_template_columns": null,
      "grid_template_rows": null,
      "height": null,
      "justify_content": null,
      "justify_items": null,
      "left": null,
      "margin": null,
      "max_height": null,
      "max_width": null,
      "min_height": null,
      "min_width": null,
      "object_fit": null,
      "object_position": null,
      "order": null,
      "overflow": null,
      "overflow_x": null,
      "overflow_y": null,
      "padding": null,
      "right": null,
      "top": null,
      "visibility": null,
      "width": null
     }
    },
    "fc15e5d819e94f56a8443dff53e99052": {
     "model_module": "@jupyter-widgets/controls",
     "model_module_version": "1.5.0",
     "model_name": "DescriptionStyleModel",
     "state": {
      "_model_module": "@jupyter-widgets/controls",
      "_model_module_version": "1.5.0",
      "_model_name": "DescriptionStyleModel",
      "_view_count": null,
      "_view_module": "@jupyter-widgets/base",
      "_view_module_version": "1.2.0",
      "_view_name": "StyleView",
      "description_width": ""
     }
    }
   }
  }
 },
 "nbformat": 4,
 "nbformat_minor": 1
}
